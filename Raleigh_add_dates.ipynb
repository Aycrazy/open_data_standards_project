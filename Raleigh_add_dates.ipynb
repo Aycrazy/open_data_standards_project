{
 "cells": [
  {
   "cell_type": "code",
   "execution_count": 12,
   "metadata": {
    "collapsed": true
   },
   "outputs": [],
   "source": [
    "%run scripts/python/standardize.py\n",
    "%matplotlib inline\n",
    "pd.set_option('max_columns',50)"
   ]
  },
  {
   "cell_type": "code",
   "execution_count": 2,
   "metadata": {},
   "outputs": [
    {
     "name": "stderr",
     "output_type": "stream",
     "text": [
      "/Users/summerfellow/anaconda3/lib/python3.6/site-packages/IPython/core/interactiveshell.py:2717: DtypeWarning: Columns (4,19,32,35,52,73,80,84) have mixed types. Specify dtype option on import or set low_memory=False.\n",
      "  interactivity=interactivity, compiler=compiler, result=result)\n"
     ]
    }
   ],
   "source": [
    "raleigh_data = pd.read_csv('_data/blds_csvs/cities/Raleigh.csv')"
   ]
  },
  {
   "cell_type": "code",
   "execution_count": 3,
   "metadata": {
    "collapsed": true
   },
   "outputs": [],
   "source": [
    "add_year_month_day_df(raleigh_data,'issueddate','issued')"
   ]
  },
  {
   "cell_type": "code",
   "execution_count": 8,
   "metadata": {},
   "outputs": [
    {
     "data": {
      "text/html": [
       "<div>\n",
       "<style>\n",
       "    .dataframe thead tr:only-child th {\n",
       "        text-align: right;\n",
       "    }\n",
       "\n",
       "    .dataframe thead th {\n",
       "        text-align: left;\n",
       "    }\n",
       "\n",
       "    .dataframe tbody tr th {\n",
       "        vertical-align: top;\n",
       "    }\n",
       "</style>\n",
       "<table border=\"1\" class=\"dataframe\">\n",
       "  <thead>\n",
       "    <tr style=\"text-align: right;\">\n",
       "      <th></th>\n",
       "      <th>Unnamed: 0</th>\n",
       "      <th>applieddate</th>\n",
       "      <th>censuslanduse</th>\n",
       "      <th>censuslandusecode</th>\n",
       "      <th>cntyacctnum</th>\n",
       "      <th>cocissueddate</th>\n",
       "      <th>cocnbr</th>\n",
       "      <th>coissueddate</th>\n",
       "      <th>constcompletedofficial</th>\n",
       "      <th>contractoraddress1</th>\n",
       "      <th>contractoraddress2</th>\n",
       "      <th>contractorcity</th>\n",
       "      <th>contractorcompanyname</th>\n",
       "      <th>contractordba</th>\n",
       "      <th>contractoremail</th>\n",
       "      <th>contractorlicnum</th>\n",
       "      <th>contractorphone</th>\n",
       "      <th>contractorstate</th>\n",
       "      <th>contractorzip</th>\n",
       "      <th>corlotid</th>\n",
       "      <th>countylocation</th>\n",
       "      <th>description</th>\n",
       "      <th>devplanid</th>\n",
       "      <th>estprojectcost</th>\n",
       "      <th>expirednewpermnum</th>\n",
       "      <th>...</th>\n",
       "      <th>permitnum</th>\n",
       "      <th>permittype</th>\n",
       "      <th>permittypemapped</th>\n",
       "      <th>pin</th>\n",
       "      <th>projectname</th>\n",
       "      <th>proposeduse</th>\n",
       "      <th>proposedworkdescription</th>\n",
       "      <th>publisher</th>\n",
       "      <th>recordupdatedate</th>\n",
       "      <th>reviewercomments</th>\n",
       "      <th>statelicnum</th>\n",
       "      <th>status</th>\n",
       "      <th>statuscurrentmapped</th>\n",
       "      <th>streetdirectionprefix</th>\n",
       "      <th>streetdirectionsuffix</th>\n",
       "      <th>streetname</th>\n",
       "      <th>streetnum</th>\n",
       "      <th>streettype</th>\n",
       "      <th>totalsqft</th>\n",
       "      <th>voiddate</th>\n",
       "      <th>workclass</th>\n",
       "      <th>workclassmapped</th>\n",
       "      <th>issuedYear</th>\n",
       "      <th>issuedMonth</th>\n",
       "      <th>issuedDay</th>\n",
       "    </tr>\n",
       "  </thead>\n",
       "  <tbody>\n",
       "    <tr>\n",
       "      <th>0</th>\n",
       "      <td>0</td>\n",
       "      <td>2017-07-21T00:00:00.000</td>\n",
       "      <td>ADDITION/ALTERATION RESIDENTIAL BLDG</td>\n",
       "      <td>434.0</td>\n",
       "      <td>5543</td>\n",
       "      <td>NaN</td>\n",
       "      <td>NaN</td>\n",
       "      <td>NaN</td>\n",
       "      <td>No</td>\n",
       "      <td>400 DOMINION DR</td>\n",
       "      <td>SUITE 106</td>\n",
       "      <td>MORRISVILLE</td>\n",
       "      <td>BLUE HAVEN POOLS &amp; SPAS</td>\n",
       "      <td>DBA: BH-RALEIGH, INC., T/A</td>\n",
       "      <td>matosh06@bellsouth.net</td>\n",
       "      <td>9474.0</td>\n",
       "      <td>9.194652e+09</td>\n",
       "      <td>NC</td>\n",
       "      <td>27560</td>\n",
       "      <td>2427</td>\n",
       "      <td>WAKE</td>\n",
       "      <td>ADDING RETAINING WALL</td>\n",
       "      <td>0.0</td>\n",
       "      <td>3000.0</td>\n",
       "      <td>NaN</td>\n",
       "      <td>...</td>\n",
       "      <td>141955</td>\n",
       "      <td>BUILDING</td>\n",
       "      <td>Building</td>\n",
       "      <td>1.70557e+09</td>\n",
       "      <td>CONVERSION DEVELOPMENT PLAN</td>\n",
       "      <td>ADDITION/ALTERATION RESIDENTIAL BLDG</td>\n",
       "      <td>ADDING RETAINING WALL</td>\n",
       "      <td>City of Raleigh</td>\n",
       "      <td>2017-07-28T00:00:00.000</td>\n",
       "      <td>NaN</td>\n",
       "      <td>66967</td>\n",
       "      <td>ACTIVE  (ISSUED)</td>\n",
       "      <td>Permit Issued</td>\n",
       "      <td>NaN</td>\n",
       "      <td>NaN</td>\n",
       "      <td>KEATS</td>\n",
       "      <td>3507</td>\n",
       "      <td>PL</td>\n",
       "      <td>0.0</td>\n",
       "      <td>NaN</td>\n",
       "      <td>Alterations/repairs</td>\n",
       "      <td>Existing</td>\n",
       "      <td>2017.0</td>\n",
       "      <td>7.0</td>\n",
       "      <td>4.0</td>\n",
       "    </tr>\n",
       "  </tbody>\n",
       "</table>\n",
       "<p>1 rows × 95 columns</p>\n",
       "</div>"
      ],
      "text/plain": [
       "   Unnamed: 0              applieddate                         censuslanduse  \\\n",
       "0           0  2017-07-21T00:00:00.000  ADDITION/ALTERATION RESIDENTIAL BLDG   \n",
       "\n",
       "   censuslandusecode cntyacctnum cocissueddate  cocnbr coissueddate  \\\n",
       "0              434.0        5543           NaN     NaN          NaN   \n",
       "\n",
       "  constcompletedofficial contractoraddress1 contractoraddress2 contractorcity  \\\n",
       "0                     No    400 DOMINION DR          SUITE 106    MORRISVILLE   \n",
       "\n",
       "     contractorcompanyname               contractordba  \\\n",
       "0  BLUE HAVEN POOLS & SPAS  DBA: BH-RALEIGH, INC., T/A   \n",
       "\n",
       "          contractoremail  contractorlicnum  contractorphone contractorstate  \\\n",
       "0  matosh06@bellsouth.net            9474.0     9.194652e+09              NC   \n",
       "\n",
       "  contractorzip corlotid countylocation            description  devplanid  \\\n",
       "0         27560     2427           WAKE  ADDING RETAINING WALL        0.0   \n",
       "\n",
       "   estprojectcost  expirednewpermnum    ...     permitnum  permittype  \\\n",
       "0          3000.0                NaN    ...        141955    BUILDING   \n",
       "\n",
       "  permittypemapped          pin                  projectname  \\\n",
       "0         Building  1.70557e+09  CONVERSION DEVELOPMENT PLAN   \n",
       "\n",
       "                            proposeduse proposedworkdescription  \\\n",
       "0  ADDITION/ALTERATION RESIDENTIAL BLDG   ADDING RETAINING WALL   \n",
       "\n",
       "         publisher         recordupdatedate  reviewercomments statelicnum  \\\n",
       "0  City of Raleigh  2017-07-28T00:00:00.000               NaN       66967   \n",
       "\n",
       "             status statuscurrentmapped streetdirectionprefix  \\\n",
       "0  ACTIVE  (ISSUED)       Permit Issued                   NaN   \n",
       "\n",
       "   streetdirectionsuffix  streetname streetnum  streettype  totalsqft  \\\n",
       "0                    NaN       KEATS      3507          PL        0.0   \n",
       "\n",
       "  voiddate            workclass workclassmapped issuedYear  issuedMonth  \\\n",
       "0      NaN  Alterations/repairs        Existing     2017.0          7.0   \n",
       "\n",
       "   issuedDay  \n",
       "0        4.0  \n",
       "\n",
       "[1 rows x 95 columns]"
      ]
     },
     "execution_count": 8,
     "metadata": {},
     "output_type": "execute_result"
    }
   ],
   "source": [
    "raleigh_data.head(1)"
   ]
  },
  {
   "cell_type": "code",
   "execution_count": 9,
   "metadata": {
    "collapsed": true
   },
   "outputs": [],
   "source": [
    "raleigh_data.to_csv('_data/Raleigh.csv')"
   ]
  },
  {
   "cell_type": "code",
   "execution_count": 111,
   "metadata": {
    "collapsed": true
   },
   "outputs": [],
   "source": [
    "raleigh_plot = raleigh_data.groupby(['permittypemapped','issuedMonth']).size().to_frame().reset_index().rename(columns={0:'tally'})"
   ]
  },
  {
   "cell_type": "markdown",
   "metadata": {},
   "source": [
    "This is clearly not a comprehensive dataset. I wonder why San Diego is only able to provide data for 3 years (2010,15, and 17) after 2010."
   ]
  },
  {
   "cell_type": "code",
   "execution_count": 11,
   "metadata": {},
   "outputs": [
    {
     "data": {
      "text/html": [
       "<div>\n",
       "<style>\n",
       "    .dataframe thead tr:only-child th {\n",
       "        text-align: right;\n",
       "    }\n",
       "\n",
       "    .dataframe thead th {\n",
       "        text-align: left;\n",
       "    }\n",
       "\n",
       "    .dataframe tbody tr th {\n",
       "        vertical-align: top;\n",
       "    }\n",
       "</style>\n",
       "<table border=\"1\" class=\"dataframe\">\n",
       "  <thead>\n",
       "    <tr style=\"text-align: right;\">\n",
       "      <th></th>\n",
       "      <th>permittypemapped</th>\n",
       "      <th>issuedMonth</th>\n",
       "      <th>tally</th>\n",
       "    </tr>\n",
       "  </thead>\n",
       "  <tbody>\n",
       "    <tr>\n",
       "      <th>0</th>\n",
       "      <td>Building</td>\n",
       "      <td>1.0</td>\n",
       "      <td>8861</td>\n",
       "    </tr>\n",
       "    <tr>\n",
       "      <th>1</th>\n",
       "      <td>Building</td>\n",
       "      <td>2.0</td>\n",
       "      <td>8515</td>\n",
       "    </tr>\n",
       "    <tr>\n",
       "      <th>2</th>\n",
       "      <td>Building</td>\n",
       "      <td>3.0</td>\n",
       "      <td>11221</td>\n",
       "    </tr>\n",
       "    <tr>\n",
       "      <th>3</th>\n",
       "      <td>Building</td>\n",
       "      <td>4.0</td>\n",
       "      <td>11435</td>\n",
       "    </tr>\n",
       "    <tr>\n",
       "      <th>4</th>\n",
       "      <td>Building</td>\n",
       "      <td>5.0</td>\n",
       "      <td>12306</td>\n",
       "    </tr>\n",
       "    <tr>\n",
       "      <th>5</th>\n",
       "      <td>Building</td>\n",
       "      <td>6.0</td>\n",
       "      <td>12720</td>\n",
       "    </tr>\n",
       "    <tr>\n",
       "      <th>6</th>\n",
       "      <td>Building</td>\n",
       "      <td>7.0</td>\n",
       "      <td>11147</td>\n",
       "    </tr>\n",
       "    <tr>\n",
       "      <th>7</th>\n",
       "      <td>Building</td>\n",
       "      <td>8.0</td>\n",
       "      <td>11772</td>\n",
       "    </tr>\n",
       "    <tr>\n",
       "      <th>8</th>\n",
       "      <td>Building</td>\n",
       "      <td>9.0</td>\n",
       "      <td>10236</td>\n",
       "    </tr>\n",
       "    <tr>\n",
       "      <th>9</th>\n",
       "      <td>Building</td>\n",
       "      <td>10.0</td>\n",
       "      <td>10388</td>\n",
       "    </tr>\n",
       "    <tr>\n",
       "      <th>10</th>\n",
       "      <td>Building</td>\n",
       "      <td>11.0</td>\n",
       "      <td>8416</td>\n",
       "    </tr>\n",
       "    <tr>\n",
       "      <th>11</th>\n",
       "      <td>Building</td>\n",
       "      <td>12.0</td>\n",
       "      <td>8181</td>\n",
       "    </tr>\n",
       "    <tr>\n",
       "      <th>12</th>\n",
       "      <td>Demolition</td>\n",
       "      <td>1.0</td>\n",
       "      <td>350</td>\n",
       "    </tr>\n",
       "    <tr>\n",
       "      <th>13</th>\n",
       "      <td>Demolition</td>\n",
       "      <td>2.0</td>\n",
       "      <td>322</td>\n",
       "    </tr>\n",
       "    <tr>\n",
       "      <th>14</th>\n",
       "      <td>Demolition</td>\n",
       "      <td>3.0</td>\n",
       "      <td>331</td>\n",
       "    </tr>\n",
       "    <tr>\n",
       "      <th>15</th>\n",
       "      <td>Demolition</td>\n",
       "      <td>4.0</td>\n",
       "      <td>396</td>\n",
       "    </tr>\n",
       "    <tr>\n",
       "      <th>16</th>\n",
       "      <td>Demolition</td>\n",
       "      <td>5.0</td>\n",
       "      <td>435</td>\n",
       "    </tr>\n",
       "    <tr>\n",
       "      <th>17</th>\n",
       "      <td>Demolition</td>\n",
       "      <td>6.0</td>\n",
       "      <td>365</td>\n",
       "    </tr>\n",
       "    <tr>\n",
       "      <th>18</th>\n",
       "      <td>Demolition</td>\n",
       "      <td>7.0</td>\n",
       "      <td>329</td>\n",
       "    </tr>\n",
       "    <tr>\n",
       "      <th>19</th>\n",
       "      <td>Demolition</td>\n",
       "      <td>8.0</td>\n",
       "      <td>402</td>\n",
       "    </tr>\n",
       "    <tr>\n",
       "      <th>20</th>\n",
       "      <td>Demolition</td>\n",
       "      <td>9.0</td>\n",
       "      <td>327</td>\n",
       "    </tr>\n",
       "    <tr>\n",
       "      <th>21</th>\n",
       "      <td>Demolition</td>\n",
       "      <td>10.0</td>\n",
       "      <td>385</td>\n",
       "    </tr>\n",
       "    <tr>\n",
       "      <th>22</th>\n",
       "      <td>Demolition</td>\n",
       "      <td>11.0</td>\n",
       "      <td>320</td>\n",
       "    </tr>\n",
       "    <tr>\n",
       "      <th>23</th>\n",
       "      <td>Demolition</td>\n",
       "      <td>12.0</td>\n",
       "      <td>270</td>\n",
       "    </tr>\n",
       "  </tbody>\n",
       "</table>\n",
       "</div>"
      ],
      "text/plain": [
       "   permittypemapped  issuedMonth  tally\n",
       "0          Building          1.0   8861\n",
       "1          Building          2.0   8515\n",
       "2          Building          3.0  11221\n",
       "3          Building          4.0  11435\n",
       "4          Building          5.0  12306\n",
       "5          Building          6.0  12720\n",
       "6          Building          7.0  11147\n",
       "7          Building          8.0  11772\n",
       "8          Building          9.0  10236\n",
       "9          Building         10.0  10388\n",
       "10         Building         11.0   8416\n",
       "11         Building         12.0   8181\n",
       "12       Demolition          1.0    350\n",
       "13       Demolition          2.0    322\n",
       "14       Demolition          3.0    331\n",
       "15       Demolition          4.0    396\n",
       "16       Demolition          5.0    435\n",
       "17       Demolition          6.0    365\n",
       "18       Demolition          7.0    329\n",
       "19       Demolition          8.0    402\n",
       "20       Demolition          9.0    327\n",
       "21       Demolition         10.0    385\n",
       "22       Demolition         11.0    320\n",
       "23       Demolition         12.0    270"
      ]
     },
     "execution_count": 11,
     "metadata": {},
     "output_type": "execute_result"
    }
   ],
   "source": [
    "raleigh_plot"
   ]
  },
  {
   "cell_type": "code",
   "execution_count": 112,
   "metadata": {
    "collapsed": true
   },
   "outputs": [],
   "source": [
    "raleigh_tallies = tallies_by_permit(raleigh_plot,'permittypemapped','issuedMonth',colors,'month')"
   ]
  },
  {
   "cell_type": "code",
   "execution_count": 113,
   "metadata": {},
   "outputs": [
    {
     "data": {
      "text/plain": [
       "[['Demolition',\n",
       "  350,\n",
       "  322,\n",
       "  331,\n",
       "  396,\n",
       "  435,\n",
       "  365,\n",
       "  329,\n",
       "  402,\n",
       "  327,\n",
       "  385,\n",
       "  320,\n",
       "  270,\n",
       "  'rgba(255,99,132,1)'],\n",
       " ['Building',\n",
       "  8861,\n",
       "  8515,\n",
       "  11221,\n",
       "  11435,\n",
       "  12306,\n",
       "  12720,\n",
       "  11147,\n",
       "  11772,\n",
       "  10236,\n",
       "  10388,\n",
       "  8416,\n",
       "  8181,\n",
       "  'rgba(54, 162, 235, 1)']]"
      ]
     },
     "execution_count": 113,
     "metadata": {},
     "output_type": "execute_result"
    }
   ],
   "source": [
    "raleigh_tallies"
   ]
  },
  {
   "cell_type": "code",
   "execution_count": 14,
   "metadata": {
    "collapsed": true
   },
   "outputs": [],
   "source": [
    "pd.DataFrame(raleigh_tallies).to_csv('_data/raleigh_tallies.csv')"
   ]
  },
  {
   "cell_type": "code",
   "execution_count": 6,
   "metadata": {
    "collapsed": true
   },
   "outputs": [],
   "source": [
    "raleigh_year = raleigh_data.groupby(['permittypemapped','issuedYear']).size().to_frame().reset_index().rename(columns={0:'tally'})"
   ]
  },
  {
   "cell_type": "code",
   "execution_count": 7,
   "metadata": {
    "collapsed": true
   },
   "outputs": [
    {
     "data": {
      "text/html": [
       "<div>\n",
       "<style>\n",
       "    .dataframe thead tr:only-child th {\n",
       "        text-align: right;\n",
       "    }\n",
       "\n",
       "    .dataframe thead th {\n",
       "        text-align: left;\n",
       "    }\n",
       "\n",
       "    .dataframe tbody tr th {\n",
       "        vertical-align: top;\n",
       "    }\n",
       "</style>\n",
       "<table border=\"1\" class=\"dataframe\">\n",
       "  <thead>\n",
       "    <tr style=\"text-align: right;\">\n",
       "      <th></th>\n",
       "      <th>permittypemapped</th>\n",
       "      <th>issuedYear</th>\n",
       "      <th>tally</th>\n",
       "    </tr>\n",
       "  </thead>\n",
       "  <tbody>\n",
       "    <tr>\n",
       "      <th>0</th>\n",
       "      <td>Building</td>\n",
       "      <td>2000.0</td>\n",
       "      <td>5217</td>\n",
       "    </tr>\n",
       "    <tr>\n",
       "      <th>1</th>\n",
       "      <td>Building</td>\n",
       "      <td>2001.0</td>\n",
       "      <td>7858</td>\n",
       "    </tr>\n",
       "    <tr>\n",
       "      <th>2</th>\n",
       "      <td>Building</td>\n",
       "      <td>2002.0</td>\n",
       "      <td>8024</td>\n",
       "    </tr>\n",
       "    <tr>\n",
       "      <th>3</th>\n",
       "      <td>Building</td>\n",
       "      <td>2003.0</td>\n",
       "      <td>7658</td>\n",
       "    </tr>\n",
       "    <tr>\n",
       "      <th>4</th>\n",
       "      <td>Building</td>\n",
       "      <td>2004.0</td>\n",
       "      <td>8914</td>\n",
       "    </tr>\n",
       "  </tbody>\n",
       "</table>\n",
       "</div>"
      ],
      "text/plain": [
       "  permittypemapped  issuedYear  tally\n",
       "0         Building      2000.0   5217\n",
       "1         Building      2001.0   7858\n",
       "2         Building      2002.0   8024\n",
       "3         Building      2003.0   7658\n",
       "4         Building      2004.0   8914"
      ]
     },
     "execution_count": 7,
     "metadata": {},
     "output_type": "execute_result"
    }
   ],
   "source": [
    "raleigh_year.head()"
   ]
  },
  {
   "cell_type": "code",
   "execution_count": 13,
   "metadata": {
    "collapsed": true
   },
   "outputs": [],
   "source": [
    "raleigh_year_tallies = tallies_by_permit(raleigh_year,'permittypemapped','issuedYear',colors,'year')"
   ]
  },
  {
   "cell_type": "code",
   "execution_count": 14,
   "metadata": {},
   "outputs": [
    {
     "data": {
      "text/plain": [
       "[['Building',\n",
       "  5217,\n",
       "  7855,\n",
       "  8012,\n",
       "  7658,\n",
       "  8921,\n",
       "  8755,\n",
       "  8714,\n",
       "  8546,\n",
       "  6355,\n",
       "  4707,\n",
       "  5258,\n",
       "  5785,\n",
       "  6125,\n",
       "  6825,\n",
       "  6500,\n",
       "  7609,\n",
       "  7755,\n",
       "  4145,\n",
       "  'rgba(255,99,132,1)',\n",
       "  [[0, 1, 2, 3, 4, 5, 6, 7, 8, 9, 10, 11, 12, 13, 14, 15, 16, 17], 'year']],\n",
       " ['Demolition',\n",
       "  129,\n",
       "  150,\n",
       "  149,\n",
       "  210,\n",
       "  196,\n",
       "  223,\n",
       "  304,\n",
       "  378,\n",
       "  256,\n",
       "  135,\n",
       "  129,\n",
       "  250,\n",
       "  196,\n",
       "  229,\n",
       "  224,\n",
       "  407,\n",
       "  408,\n",
       "  239,\n",
       "  'rgba(54, 162, 235, 1)',\n",
       "  [[0, 1, 2, 3, 4, 5, 6, 7, 8, 9, 10, 11, 12, 13, 14, 15, 16, 17], 'year']]]"
      ]
     },
     "execution_count": 14,
     "metadata": {},
     "output_type": "execute_result"
    }
   ],
   "source": [
    "raleigh_year_tallies"
   ]
  },
  {
   "cell_type": "code",
   "execution_count": 15,
   "metadata": {
    "collapsed": true
   },
   "outputs": [],
   "source": [
    "pd.DataFrame(raleigh_year_tallies).to_csv('_data/raleigh_tallies_year.csv')"
   ]
  },
  {
   "cell_type": "code",
   "execution_count": null,
   "metadata": {
    "collapsed": true
   },
   "outputs": [],
   "source": []
  }
 ],
 "metadata": {
  "kernelspec": {
   "display_name": "Python 3",
   "language": "python",
   "name": "python3"
  },
  "language_info": {
   "codemirror_mode": {
    "name": "ipython",
    "version": 3
   },
   "file_extension": ".py",
   "mimetype": "text/x-python",
   "name": "python",
   "nbconvert_exporter": "python",
   "pygments_lexer": "ipython3",
   "version": "3.6.1"
  }
 },
 "nbformat": 4,
 "nbformat_minor": 2
}
