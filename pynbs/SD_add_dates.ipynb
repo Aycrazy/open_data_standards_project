{
 "cells": [
  {
   "cell_type": "code",
   "execution_count": 10,
   "metadata": {},
   "outputs": [],
   "source": [
    "%run ../scripts/python/standardize.py\n",
    "%matplotlib inline\n",
    "pd.set_option('max_columns',50)"
   ]
  },
  {
   "cell_type": "markdown",
   "metadata": {},
   "source": [
    "I will disclose here that my limited understanding of best practice for javascript and knolwedge of up to date browser capabilities may mean that I did not create the best structure for the data to be used in the blds charts, but loading the blds data for a single location in the following way ended up working to accomplish what I was trying to do.\n",
    "\n",
    "The point of this script is to create rows that follow this format for months: permttypemapped, month and permttypemapped count *12 months, color assignment\n",
    "\n",
    "and this format for years: permittypemapped, years and permittypemapped count *# of years, color assignment, years_array"
   ]
  },
  {
   "cell_type": "code",
   "execution_count": 3,
   "metadata": {
    "collapsed": true
   },
   "outputs": [],
   "source": [
    "sd_data = pd.read_csv('../_data/blds_csvs/cities/San_Diego.csv')"
   ]
  },
  {
   "cell_type": "code",
   "execution_count": 4,
   "metadata": {
    "collapsed": true
   },
   "outputs": [],
   "source": [
    "add_year_month_day_df(sd_data,'issueddate','issued')"
   ]
  },
  {
   "cell_type": "code",
   "execution_count": null,
   "metadata": {
    "collapsed": true
   },
   "outputs": [],
   "source": [
    "sd_data.head(1)"
   ]
  },
  {
   "cell_type": "code",
   "execution_count": null,
   "metadata": {
    "collapsed": true
   },
   "outputs": [],
   "source": [
    "sd_data.to_csv('../_data/San_Diego.csv')"
   ]
  },
  {
   "cell_type": "code",
   "execution_count": 5,
   "metadata": {
    "collapsed": true
   },
   "outputs": [],
   "source": [
    "sd_plot = sd_data.groupby(['permittypemapped','issuedMonth']).size().to_frame().reset_index().rename(columns={0:'tally'})"
   ]
  },
  {
   "cell_type": "markdown",
   "metadata": {},
   "source": [
    "This is clearly not a comprehensive dataset. I wonder why San Diego is only able to provide data for 3 years (2010,15, and 17) after 2010."
   ]
  },
  {
   "cell_type": "code",
   "execution_count": 11,
   "metadata": {},
   "outputs": [],
   "source": [
    "sd_tallies = tallies_by_permit(sd_plot,'permittypemapped','issuedMonth',colors,'month')"
   ]
  },
  {
   "cell_type": "code",
   "execution_count": 17,
   "metadata": {},
   "outputs": [
    {
     "data": {
      "text/plain": [
       "[['Electrical', 0, 1, 30, 0, 9, 1, 0, 2, 1, 0, 0, 0, 'rgba(255, 159, 64, 1)'],\n",
       " ['Other', 0, 0, 5, 1, 0, 0, 0, 0, 0, 0, 0, 1, 'rgba(0, 0, 153, 1)'],\n",
       " ['Pool/Spa', 0, 0, 1, 0, 0, 0, 0, 0, 0, 0, 0, 0, 'rgba(153, 102, 255, 1)'],\n",
       " ['Plumbing', 0, 0, 8, 0, 1, 0, 3, 0, 0, 0, 0, 0, 'rgba(0, 204, 204, 1)'],\n",
       " ['Mechanical', 0, 0, 7, 0, 3, 0, 4, 2, 0, 0, 0, 0, 'rgba(178, 19, 19, 1)'],\n",
       " ['Building', 0, 0, 1, 0, 7, 0, 0, 0, 0, 0, 0, 0, 'rgba(255,99,132,1)']]"
      ]
     },
     "execution_count": 17,
     "metadata": {},
     "output_type": "execute_result"
    }
   ],
   "source": [
    "sd_tallies"
   ]
  },
  {
   "cell_type": "code",
   "execution_count": null,
   "metadata": {
    "collapsed": true
   },
   "outputs": [],
   "source": [
    "pd.DataFrame(sd_tallies).to_csv('../_data/sd_tallies.csv')"
   ]
  },
  {
   "cell_type": "code",
   "execution_count": 13,
   "metadata": {
    "collapsed": true
   },
   "outputs": [],
   "source": [
    "sd_year = sd_data.groupby(['permittypemapped','issuedYear']).size().to_frame().reset_index().rename(columns={0:'tally'})"
   ]
  },
  {
   "cell_type": "code",
   "execution_count": 14,
   "metadata": {
    "collapsed": true
   },
   "outputs": [],
   "source": [
    "sd_year_tallies = tallies_by_permit(sd_year,'permittypemapped','issuedYear',colors,'year')"
   ]
  },
  {
   "cell_type": "code",
   "execution_count": 18,
   "metadata": {},
   "outputs": [
    {
     "data": {
      "text/plain": [
       "[['Electrical',\n",
       "  1,\n",
       "  0,\n",
       "  0,\n",
       "  0,\n",
       "  0,\n",
       "  3,\n",
       "  0,\n",
       "  40,\n",
       "  'rgba(255, 159, 64, 1)',\n",
       "  [10, 11, 12, 13, 14, 15, 16, 17]],\n",
       " ['Other',\n",
       "  1,\n",
       "  0,\n",
       "  0,\n",
       "  0,\n",
       "  0,\n",
       "  0,\n",
       "  0,\n",
       "  6,\n",
       "  'rgba(0, 0, 153, 1)',\n",
       "  [10, 11, 12, 13, 14, 15, 16, 17]],\n",
       " ['Pool/Spa', 1, 0, 0, 0, 0, 0, 0, 0, 'rgba(153, 102, 255, 1)', [17]],\n",
       " ['Plumbing', 12, 0, 0, 0, 0, 0, 0, 0, 'rgba(0, 204, 204, 1)', [17]],\n",
       " ['Mechanical', 2, 0, 14, 0, 0, 0, 0, 0, 'rgba(178, 19, 19, 1)', [15, 16, 17]],\n",
       " ['Building', 8, 0, 0, 0, 0, 0, 0, 0, 'rgba(255,99,132,1)', [17]]]"
      ]
     },
     "execution_count": 18,
     "metadata": {},
     "output_type": "execute_result"
    }
   ],
   "source": [
    "sd_year_tallies"
   ]
  },
  {
   "cell_type": "code",
   "execution_count": 16,
   "metadata": {},
   "outputs": [],
   "source": [
    "pd.DataFrame(sd_year_tallies).to_csv('../_data/tallies_sd_year.csv')"
   ]
  },
  {
   "cell_type": "code",
   "execution_count": null,
   "metadata": {
    "collapsed": true
   },
   "outputs": [],
   "source": [
    "sd_year_tallies"
   ]
  },
  {
   "cell_type": "code",
   "execution_count": 27,
   "metadata": {},
   "outputs": [
    {
     "data": {
      "text/plain": [
       "88"
      ]
     },
     "execution_count": 27,
     "metadata": {},
     "output_type": "execute_result"
    }
   ],
   "source": [
    "sum(sd_year.tally)"
   ]
  },
  {
   "cell_type": "code",
   "execution_count": 28,
   "metadata": {},
   "outputs": [
    {
     "data": {
      "text/plain": [
       "88"
      ]
     },
     "execution_count": 28,
     "metadata": {},
     "output_type": "execute_result"
    }
   ],
   "source": [
    "sum(sd_plot.tally)"
   ]
  },
  {
   "cell_type": "code",
   "execution_count": null,
   "metadata": {
    "collapsed": true
   },
   "outputs": [],
   "source": []
  }
 ],
 "metadata": {
  "kernelspec": {
   "display_name": "Python 3",
   "language": "python",
   "name": "python3"
  },
  "language_info": {
   "codemirror_mode": {
    "name": "ipython",
    "version": 3
   },
   "file_extension": ".py",
   "mimetype": "text/x-python",
   "name": "python",
   "nbconvert_exporter": "python",
   "pygments_lexer": "ipython3",
   "version": "3.6.1"
  }
 },
 "nbformat": 4,
 "nbformat_minor": 2
}
