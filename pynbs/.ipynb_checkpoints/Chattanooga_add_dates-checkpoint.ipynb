{
 "cells": [
  {
   "cell_type": "code",
   "execution_count": 15,
   "metadata": {},
   "outputs": [],
   "source": [
    "%run ../scripts/python/standardize.py\n",
    "%matplotlib inline\n",
    "pd.set_option('max_columns',50)"
   ]
  },
  {
   "cell_type": "markdown",
   "metadata": {},
   "source": [
    "I will disclose here that my limited understanding of best practice for javascript and knolwedge of up to date browser capabilities may mean that I did not create the best structure for the data to be used in the blds charts, but loading the blds data for a single location in the following way ended up working to accomplish what I was trying to do."
   ]
  },
  {
   "cell_type": "markdown",
   "metadata": {},
   "source": [
    "The point of this script is to create rows that follow this format for months:\n",
    "permttypemapped, month and permttypemapped count *12 months, color assignment\n",
    "\n",
    "and this format for years:\n",
    "permittypemapped, years and permittypemapped count *# of years, color assignment, years_array"
   ]
  },
  {
   "cell_type": "code",
   "execution_count": 3,
   "metadata": {
    "collapsed": true
   },
   "outputs": [],
   "source": [
    "chatt_data = pd.read_csv('../_data/blds_csvs/cities/Chattanooga.csv')"
   ]
  },
  {
   "cell_type": "code",
   "execution_count": 4,
   "metadata": {
    "collapsed": true
   },
   "outputs": [],
   "source": [
    "add_year_month_day_df(chatt_data,'issueddate','issued')"
   ]
  },
  {
   "cell_type": "code",
   "execution_count": 5,
   "metadata": {},
   "outputs": [
    {
     "data": {
      "text/html": [
       "<div>\n",
       "<style>\n",
       "    .dataframe thead tr:only-child th {\n",
       "        text-align: right;\n",
       "    }\n",
       "\n",
       "    .dataframe thead th {\n",
       "        text-align: left;\n",
       "    }\n",
       "\n",
       "    .dataframe tbody tr th {\n",
       "        vertical-align: top;\n",
       "    }\n",
       "</style>\n",
       "<table border=\"1\" class=\"dataframe\">\n",
       "  <thead>\n",
       "    <tr style=\"text-align: right;\">\n",
       "      <th></th>\n",
       "      <th>Unnamed: 0</th>\n",
       "      <th>applieddate</th>\n",
       "      <th>contractorcompanyname</th>\n",
       "      <th>contractorlicnum</th>\n",
       "      <th>contractorphone</th>\n",
       "      <th>description</th>\n",
       "      <th>estprojectcost</th>\n",
       "      <th>fee</th>\n",
       "      <th>issueddate</th>\n",
       "      <th>lastupdated</th>\n",
       "      <th>originaladdress1</th>\n",
       "      <th>originaladdresslocation</th>\n",
       "      <th>city</th>\n",
       "      <th>state</th>\n",
       "      <th>originalzip</th>\n",
       "      <th>permitclass</th>\n",
       "      <th>permitnum</th>\n",
       "      <th>permittype</th>\n",
       "      <th>pin</th>\n",
       "      <th>status</th>\n",
       "      <th>statusdate</th>\n",
       "      <th>units</th>\n",
       "      <th>latitude</th>\n",
       "      <th>longitude</th>\n",
       "      <th>permittypemapped</th>\n",
       "      <th>issuedYear</th>\n",
       "      <th>issuedMonth</th>\n",
       "      <th>issuedDay</th>\n",
       "    </tr>\n",
       "  </thead>\n",
       "  <tbody>\n",
       "    <tr>\n",
       "      <th>0</th>\n",
       "      <td>0</td>\n",
       "      <td>2009-02-10T00:00:00</td>\n",
       "      <td>OWNER</td>\n",
       "      <td>0000000</td>\n",
       "      <td>NaN</td>\n",
       "      <td>MAJOR REPAIRS TO EXISTING SINGLE FAMILY RESIDENCE</td>\n",
       "      <td>22500.0</td>\n",
       "      <td>150.0</td>\n",
       "      <td>2009-02-10T00:00:00</td>\n",
       "      <td>20090826.0</td>\n",
       "      <td>3501 04TH AVE</td>\n",
       "      <td>NaN</td>\n",
       "      <td>CHATTANOOGA</td>\n",
       "      <td>TN</td>\n",
       "      <td>37407.0</td>\n",
       "      <td>Building Permit</td>\n",
       "      <td>09-10159</td>\n",
       "      <td>Building/Building Permit/Residential (1-2 Unit...</td>\n",
       "      <td>033168A H 00200</td>\n",
       "      <td>Closed</td>\n",
       "      <td>2009-08-26T00:00:00</td>\n",
       "      <td>1.0</td>\n",
       "      <td>NaN</td>\n",
       "      <td>NaN</td>\n",
       "      <td>BUILDING</td>\n",
       "      <td>2009.0</td>\n",
       "      <td>2.0</td>\n",
       "      <td>1.0</td>\n",
       "    </tr>\n",
       "  </tbody>\n",
       "</table>\n",
       "</div>"
      ],
      "text/plain": [
       "   Unnamed: 0          applieddate contractorcompanyname contractorlicnum  \\\n",
       "0           0  2009-02-10T00:00:00                 OWNER          0000000   \n",
       "\n",
       "  contractorphone                                        description  \\\n",
       "0             NaN  MAJOR REPAIRS TO EXISTING SINGLE FAMILY RESIDENCE   \n",
       "\n",
       "   estprojectcost    fee           issueddate  lastupdated originaladdress1  \\\n",
       "0         22500.0  150.0  2009-02-10T00:00:00   20090826.0    3501 04TH AVE   \n",
       "\n",
       "  originaladdresslocation         city state  originalzip      permitclass  \\\n",
       "0                     NaN  CHATTANOOGA    TN      37407.0  Building Permit   \n",
       "\n",
       "  permitnum                                         permittype  \\\n",
       "0  09-10159  Building/Building Permit/Residential (1-2 Unit...   \n",
       "\n",
       "               pin  status           statusdate  units  latitude  longitude  \\\n",
       "0  033168A H 00200  Closed  2009-08-26T00:00:00    1.0       NaN        NaN   \n",
       "\n",
       "  permittypemapped  issuedYear  issuedMonth  issuedDay  \n",
       "0         BUILDING      2009.0          2.0        1.0  "
      ]
     },
     "execution_count": 5,
     "metadata": {},
     "output_type": "execute_result"
    }
   ],
   "source": [
    "chatt_data.head(1)"
   ]
  },
  {
   "cell_type": "code",
   "execution_count": 7,
   "metadata": {
    "collapsed": true
   },
   "outputs": [],
   "source": [
    "chatt_data.to_csv('../_data/Chattanooga.csv')"
   ]
  },
  {
   "cell_type": "code",
   "execution_count": 5,
   "metadata": {
    "collapsed": true
   },
   "outputs": [],
   "source": [
    "chatt_plot = chatt_data.groupby(['permittypemapped','issuedMonth']).size().to_frame().reset_index().rename(columns={0:'tally'})"
   ]
  },
  {
   "cell_type": "markdown",
   "metadata": {},
   "source": [
    "This is clearly not a comprehensive dataset. I wonder why San Diego is only able to provide data for 3 years (2010,15, and 17) after 2010."
   ]
  },
  {
   "cell_type": "code",
   "execution_count": 10,
   "metadata": {},
   "outputs": [],
   "source": [
    "chatt_tallies = tallies_by_permit(chatt_plot,'permittypemapped','issuedMonth',colors,'month')"
   ]
  },
  {
   "cell_type": "code",
   "execution_count": 11,
   "metadata": {},
   "outputs": [
    {
     "data": {
      "text/plain": [
       "[['DEMOLITION',\n",
       "  121,\n",
       "  121,\n",
       "  160,\n",
       "  129,\n",
       "  101,\n",
       "  120,\n",
       "  151,\n",
       "  154,\n",
       "  162,\n",
       "  140,\n",
       "  126,\n",
       "  111,\n",
       "  'rgba(255, 206, 86, 1)'],\n",
       " ['ELECTRICAL', 0, 0, 0, 0, 0, 0, 1, 0, 1, 0, 0, 0, 'rgba(255, 159, 64, 1)'],\n",
       " ['BUILDING',\n",
       "  105,\n",
       "  121,\n",
       "  120,\n",
       "  145,\n",
       "  8,\n",
       "  13,\n",
       "  4,\n",
       "  10,\n",
       "  24,\n",
       "  1,\n",
       "  16,\n",
       "  80,\n",
       "  'rgba(255,99,132,1)']]"
      ]
     },
     "execution_count": 11,
     "metadata": {},
     "output_type": "execute_result"
    }
   ],
   "source": [
    "chatt_tallies"
   ]
  },
  {
   "cell_type": "markdown",
   "metadata": {},
   "source": [
    "This will be the output for the month's plot"
   ]
  },
  {
   "cell_type": "code",
   "execution_count": 12,
   "metadata": {
    "collapsed": true
   },
   "outputs": [],
   "source": [
    "pd.DataFrame(chatt_tallies).to_csv('../_data/chatt_tallies.csv')"
   ]
  },
  {
   "cell_type": "code",
   "execution_count": 13,
   "metadata": {
    "collapsed": true
   },
   "outputs": [],
   "source": [
    "chatt_year = chatt_data.groupby(['permittypemapped','issuedYear']).size().to_frame().reset_index().rename(columns={0:'tally'})"
   ]
  },
  {
   "cell_type": "code",
   "execution_count": 16,
   "metadata": {},
   "outputs": [],
   "source": [
    "chatt_year_tallies = tallies_by_permit(chatt_year,'permittypemapped','issuedYear',colors,'year')"
   ]
  },
  {
   "cell_type": "markdown",
   "metadata": {},
   "source": [
    "Below is the output used for the years plot"
   ]
  },
  {
   "cell_type": "code",
   "execution_count": 17,
   "metadata": {
    "collapsed": true
   },
   "outputs": [],
   "source": [
    "pd.DataFrame(chatt_year_tallies).to_csv('../_data/tallies_chatt_year.csv')"
   ]
  }
 ],
 "metadata": {
  "kernelspec": {
   "display_name": "Python 3",
   "language": "python",
   "name": "python3"
  },
  "language_info": {
   "codemirror_mode": {
    "name": "ipython",
    "version": 3
   },
   "file_extension": ".py",
   "mimetype": "text/x-python",
   "name": "python",
   "nbconvert_exporter": "python",
   "pygments_lexer": "ipython3",
   "version": "3.6.1"
  }
 },
 "nbformat": 4,
 "nbformat_minor": 2
}
