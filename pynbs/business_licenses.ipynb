{
 "cells": [
  {
   "cell_type": "code",
   "execution_count": 3,
   "metadata": {
    "collapsed": true
   },
   "outputs": [],
   "source": [
    "import bs4\n",
    "import urllib\n",
    "import urllib3\n",
    "#import urllib2\n",
    "import re\n",
    "import pandas as pd\n",
    "import numpy as np\n",
    "import io\n",
    "import geocoder\n",
    "%run scripts/python/standardize.py"
   ]
  },
  {
   "cell_type": "code",
   "execution_count": 363,
   "metadata": {
    "collapsed": true
   },
   "outputs": [],
   "source": [
    "kc_lic = pd.read_json('https://data.kcmo.org/resource/rmk6-sicm.json')"
   ]
  },
  {
   "cell_type": "code",
   "execution_count": 358,
   "metadata": {
    "collapsed": true
   },
   "outputs": [],
   "source": [
    "ind_lic = pd.read_json(\"https://www.ci.independence.mo.us/Open/businesslicense/LicenseJSON\")"
   ]
  },
  {
   "cell_type": "code",
   "execution_count": 4,
   "metadata": {
    "collapsed": true
   },
   "outputs": [],
   "source": [
    "kc_lic = pd.read_csv('https://data.kcmo.org/resource/rmk6-sicm.csv')"
   ]
  },
  {
   "cell_type": "code",
   "execution_count": 7,
   "metadata": {},
   "outputs": [
    {
     "data": {
      "text/html": [
       "<div>\n",
       "<style>\n",
       "    .dataframe thead tr:only-child th {\n",
       "        text-align: right;\n",
       "    }\n",
       "\n",
       "    .dataframe thead th {\n",
       "        text-align: left;\n",
       "    }\n",
       "\n",
       "    .dataframe tbody tr th {\n",
       "        vertical-align: top;\n",
       "    }\n",
       "</style>\n",
       "<table border=\"1\" class=\"dataframe\">\n",
       "  <thead>\n",
       "    <tr style=\"text-align: right;\">\n",
       "      <th>value</th>\n",
       "      <th>False</th>\n",
       "      <th>True</th>\n",
       "    </tr>\n",
       "    <tr>\n",
       "      <th>variable</th>\n",
       "      <th></th>\n",
       "      <th></th>\n",
       "    </tr>\n",
       "  </thead>\n",
       "  <tbody>\n",
       "    <tr>\n",
       "      <th>:@computed_region_9t2m_phkm</th>\n",
       "      <td>858</td>\n",
       "      <td>142</td>\n",
       "    </tr>\n",
       "    <tr>\n",
       "      <th>:@computed_region_kk66_ngf4</th>\n",
       "      <td>858</td>\n",
       "      <td>142</td>\n",
       "    </tr>\n",
       "    <tr>\n",
       "      <th>:@computed_region_my34_vmp8</th>\n",
       "      <td>897</td>\n",
       "      <td>103</td>\n",
       "    </tr>\n",
       "    <tr>\n",
       "      <th>:@computed_region_w4hf_t6bp</th>\n",
       "      <td>897</td>\n",
       "      <td>103</td>\n",
       "    </tr>\n",
       "    <tr>\n",
       "      <th>business_dba</th>\n",
       "      <td>1000</td>\n",
       "      <td>0</td>\n",
       "    </tr>\n",
       "    <tr>\n",
       "      <th>business_type</th>\n",
       "      <td>1000</td>\n",
       "      <td>0</td>\n",
       "    </tr>\n",
       "    <tr>\n",
       "      <th>location_1</th>\n",
       "      <td>906</td>\n",
       "      <td>94</td>\n",
       "    </tr>\n",
       "    <tr>\n",
       "      <th>location_1_city</th>\n",
       "      <td>0</td>\n",
       "      <td>1000</td>\n",
       "    </tr>\n",
       "    <tr>\n",
       "      <th>location_1_location</th>\n",
       "      <td>999</td>\n",
       "      <td>1</td>\n",
       "    </tr>\n",
       "    <tr>\n",
       "      <th>location_1_zip</th>\n",
       "      <td>0</td>\n",
       "      <td>1000</td>\n",
       "    </tr>\n",
       "  </tbody>\n",
       "</table>\n",
       "</div>"
      ],
      "text/plain": [
       "value                        False  True \n",
       "variable                                 \n",
       ":@computed_region_9t2m_phkm    858    142\n",
       ":@computed_region_kk66_ngf4    858    142\n",
       ":@computed_region_my34_vmp8    897    103\n",
       ":@computed_region_w4hf_t6bp    897    103\n",
       "business_dba                  1000      0\n",
       "business_type                 1000      0\n",
       "location_1                     906     94\n",
       "location_1_city                  0   1000\n",
       "location_1_location            999      1\n",
       "location_1_zip                   0   1000"
      ]
     },
     "execution_count": 7,
     "metadata": {},
     "output_type": "execute_result"
    }
   ],
   "source": [
    "check_na(kc_lic)"
   ]
  },
  {
   "cell_type": "code",
   "execution_count": 359,
   "metadata": {},
   "outputs": [
    {
     "data": {
      "text/html": [
       "<div>\n",
       "<style>\n",
       "    .dataframe thead tr:only-child th {\n",
       "        text-align: right;\n",
       "    }\n",
       "\n",
       "    .dataframe thead th {\n",
       "        text-align: left;\n",
       "    }\n",
       "\n",
       "    .dataframe tbody tr th {\n",
       "        vertical-align: top;\n",
       "    }\n",
       "</style>\n",
       "<table border=\"1\" class=\"dataframe\">\n",
       "  <thead>\n",
       "    <tr style=\"text-align: right;\">\n",
       "      <th></th>\n",
       "      <th>AccountNumber</th>\n",
       "      <th>AccountStatus</th>\n",
       "      <th>AccountStatusDescription</th>\n",
       "      <th>Address</th>\n",
       "      <th>BusinessDescription</th>\n",
       "      <th>BusinessName</th>\n",
       "      <th>City</th>\n",
       "      <th>CouncilDistrict</th>\n",
       "      <th>Date</th>\n",
       "      <th>EffectiveDate</th>\n",
       "      <th>EmployeeRange</th>\n",
       "      <th>HomeBasedBusiness</th>\n",
       "      <th>Lat</th>\n",
       "      <th>Long</th>\n",
       "      <th>NumberOfEmployees</th>\n",
       "      <th>SIC</th>\n",
       "      <th>StartDate</th>\n",
       "      <th>State</th>\n",
       "      <th>Status</th>\n",
       "      <th>ZIPcode</th>\n",
       "    </tr>\n",
       "  </thead>\n",
       "  <tbody>\n",
       "    <tr>\n",
       "      <th>0</th>\n",
       "      <td>71127</td>\n",
       "      <td>LR</td>\n",
       "      <td>Late Renewal</td>\n",
       "      <td>11303  E TRUMAN RD</td>\n",
       "      <td>Auto Repair &amp; Clean Up</td>\n",
       "      <td>AUTOMOTIVE ART</td>\n",
       "      <td>INDEPENDENCE</td>\n",
       "      <td>1</td>\n",
       "      <td>2012-11-16</td>\n",
       "      <td>9/18/2015</td>\n",
       "      <td>0-10</td>\n",
       "      <td>NO</td>\n",
       "      <td>39.094574</td>\n",
       "      <td>-94.444183</td>\n",
       "      <td>0</td>\n",
       "      <td>7538F</td>\n",
       "      <td>9/18/2007</td>\n",
       "      <td>MO</td>\n",
       "      <td>RENEWAL</td>\n",
       "      <td>64052</td>\n",
       "    </tr>\n",
       "    <tr>\n",
       "      <th>1</th>\n",
       "      <td>67132</td>\n",
       "      <td>RE</td>\n",
       "      <td>Renewal</td>\n",
       "      <td>9020  E US 24 HWY  C</td>\n",
       "      <td>Auto Repair/Used Auto Sales</td>\n",
       "      <td>EXCEL AUTO</td>\n",
       "      <td>INDEPENDENCE</td>\n",
       "      <td>1</td>\n",
       "      <td>2012-07-06</td>\n",
       "      <td>7/31/2016</td>\n",
       "      <td>0-10</td>\n",
       "      <td>NO</td>\n",
       "      <td>39.106327</td>\n",
       "      <td>-94.471840</td>\n",
       "      <td>0</td>\n",
       "      <td>7538A</td>\n",
       "      <td>7/24/2006</td>\n",
       "      <td>MO</td>\n",
       "      <td>RENEWAL</td>\n",
       "      <td>64053</td>\n",
       "    </tr>\n",
       "  </tbody>\n",
       "</table>\n",
       "</div>"
      ],
      "text/plain": [
       "   AccountNumber AccountStatus AccountStatusDescription               Address  \\\n",
       "0          71127            LR             Late Renewal    11303  E TRUMAN RD   \n",
       "1          67132            RE                  Renewal  9020  E US 24 HWY  C   \n",
       "\n",
       "           BusinessDescription    BusinessName          City  CouncilDistrict  \\\n",
       "0       Auto Repair & Clean Up  AUTOMOTIVE ART  INDEPENDENCE                1   \n",
       "1  Auto Repair/Used Auto Sales      EXCEL AUTO  INDEPENDENCE                1   \n",
       "\n",
       "        Date EffectiveDate EmployeeRange HomeBasedBusiness        Lat  \\\n",
       "0 2012-11-16     9/18/2015          0-10                NO  39.094574   \n",
       "1 2012-07-06     7/31/2016          0-10                NO  39.106327   \n",
       "\n",
       "        Long  NumberOfEmployees    SIC  StartDate State   Status  ZIPcode  \n",
       "0 -94.444183                  0  7538F  9/18/2007    MO  RENEWAL    64052  \n",
       "1 -94.471840                  0  7538A  7/24/2006    MO  RENEWAL    64053  "
      ]
     },
     "execution_count": 359,
     "metadata": {},
     "output_type": "execute_result"
    }
   ],
   "source": [
    "ind_lic.head(2)"
   ]
  },
  {
   "cell_type": "code",
   "execution_count": 360,
   "metadata": {
    "collapsed": true
   },
   "outputs": [],
   "source": [
    "ind_lic = ind_lic[ind_lic.Lat != 0].rename(columns={'Lat':'latitude','Long':'longitude'})"
   ]
  },
  {
   "cell_type": "code",
   "execution_count": 361,
   "metadata": {},
   "outputs": [
    {
     "data": {
      "text/html": [
       "<div>\n",
       "<style>\n",
       "    .dataframe thead tr:only-child th {\n",
       "        text-align: right;\n",
       "    }\n",
       "\n",
       "    .dataframe thead th {\n",
       "        text-align: left;\n",
       "    }\n",
       "\n",
       "    .dataframe tbody tr th {\n",
       "        vertical-align: top;\n",
       "    }\n",
       "</style>\n",
       "<table border=\"1\" class=\"dataframe\">\n",
       "  <thead>\n",
       "    <tr style=\"text-align: right;\">\n",
       "      <th></th>\n",
       "      <th>AccountNumber</th>\n",
       "      <th>AccountStatus</th>\n",
       "      <th>AccountStatusDescription</th>\n",
       "      <th>Address</th>\n",
       "      <th>BusinessDescription</th>\n",
       "      <th>BusinessName</th>\n",
       "      <th>City</th>\n",
       "      <th>CouncilDistrict</th>\n",
       "      <th>Date</th>\n",
       "      <th>EffectiveDate</th>\n",
       "      <th>EmployeeRange</th>\n",
       "      <th>HomeBasedBusiness</th>\n",
       "      <th>latitude</th>\n",
       "      <th>longitude</th>\n",
       "      <th>NumberOfEmployees</th>\n",
       "      <th>SIC</th>\n",
       "      <th>StartDate</th>\n",
       "      <th>State</th>\n",
       "      <th>Status</th>\n",
       "      <th>ZIPcode</th>\n",
       "    </tr>\n",
       "  </thead>\n",
       "  <tbody>\n",
       "    <tr>\n",
       "      <th>0</th>\n",
       "      <td>71127</td>\n",
       "      <td>LR</td>\n",
       "      <td>Late Renewal</td>\n",
       "      <td>11303  E TRUMAN RD</td>\n",
       "      <td>Auto Repair &amp; Clean Up</td>\n",
       "      <td>AUTOMOTIVE ART</td>\n",
       "      <td>INDEPENDENCE</td>\n",
       "      <td>1</td>\n",
       "      <td>2012-11-16</td>\n",
       "      <td>9/18/2015</td>\n",
       "      <td>0-10</td>\n",
       "      <td>NO</td>\n",
       "      <td>39.094574</td>\n",
       "      <td>-94.444183</td>\n",
       "      <td>0</td>\n",
       "      <td>7538F</td>\n",
       "      <td>9/18/2007</td>\n",
       "      <td>MO</td>\n",
       "      <td>RENEWAL</td>\n",
       "      <td>64052</td>\n",
       "    </tr>\n",
       "    <tr>\n",
       "      <th>1</th>\n",
       "      <td>67132</td>\n",
       "      <td>RE</td>\n",
       "      <td>Renewal</td>\n",
       "      <td>9020  E US 24 HWY  C</td>\n",
       "      <td>Auto Repair/Used Auto Sales</td>\n",
       "      <td>EXCEL AUTO</td>\n",
       "      <td>INDEPENDENCE</td>\n",
       "      <td>1</td>\n",
       "      <td>2012-07-06</td>\n",
       "      <td>7/31/2016</td>\n",
       "      <td>0-10</td>\n",
       "      <td>NO</td>\n",
       "      <td>39.106327</td>\n",
       "      <td>-94.471840</td>\n",
       "      <td>0</td>\n",
       "      <td>7538A</td>\n",
       "      <td>7/24/2006</td>\n",
       "      <td>MO</td>\n",
       "      <td>RENEWAL</td>\n",
       "      <td>64053</td>\n",
       "    </tr>\n",
       "  </tbody>\n",
       "</table>\n",
       "</div>"
      ],
      "text/plain": [
       "   AccountNumber AccountStatus AccountStatusDescription               Address  \\\n",
       "0          71127            LR             Late Renewal    11303  E TRUMAN RD   \n",
       "1          67132            RE                  Renewal  9020  E US 24 HWY  C   \n",
       "\n",
       "           BusinessDescription    BusinessName          City  CouncilDistrict  \\\n",
       "0       Auto Repair & Clean Up  AUTOMOTIVE ART  INDEPENDENCE                1   \n",
       "1  Auto Repair/Used Auto Sales      EXCEL AUTO  INDEPENDENCE                1   \n",
       "\n",
       "        Date EffectiveDate EmployeeRange HomeBasedBusiness   latitude  \\\n",
       "0 2012-11-16     9/18/2015          0-10                NO  39.094574   \n",
       "1 2012-07-06     7/31/2016          0-10                NO  39.106327   \n",
       "\n",
       "   longitude  NumberOfEmployees    SIC  StartDate State   Status  ZIPcode  \n",
       "0 -94.444183                  0  7538F  9/18/2007    MO  RENEWAL    64052  \n",
       "1 -94.471840                  0  7538A  7/24/2006    MO  RENEWAL    64053  "
      ]
     },
     "execution_count": 361,
     "metadata": {},
     "output_type": "execute_result"
    }
   ],
   "source": [
    "ind_lic.head(2)"
   ]
  },
  {
   "cell_type": "code",
   "execution_count": 362,
   "metadata": {},
   "outputs": [
    {
     "data": {
      "text/html": [
       "<div>\n",
       "<style>\n",
       "    .dataframe thead tr:only-child th {\n",
       "        text-align: right;\n",
       "    }\n",
       "\n",
       "    .dataframe thead th {\n",
       "        text-align: left;\n",
       "    }\n",
       "\n",
       "    .dataframe tbody tr th {\n",
       "        vertical-align: top;\n",
       "    }\n",
       "</style>\n",
       "<table border=\"1\" class=\"dataframe\">\n",
       "  <thead>\n",
       "    <tr style=\"text-align: right;\">\n",
       "      <th></th>\n",
       "      <th>:@computed_region_9t2m_phkm</th>\n",
       "      <th>:@computed_region_kk66_ngf4</th>\n",
       "      <th>:@computed_region_my34_vmp8</th>\n",
       "      <th>:@computed_region_w4hf_t6bp</th>\n",
       "      <th>business_dba</th>\n",
       "      <th>business_type</th>\n",
       "      <th>location_1</th>\n",
       "      <th>location_1_location</th>\n",
       "      <th>longitude</th>\n",
       "      <th>latitude</th>\n",
       "    </tr>\n",
       "  </thead>\n",
       "  <tbody>\n",
       "    <tr>\n",
       "      <th>5</th>\n",
       "      <td>3.0</td>\n",
       "      <td>6.0</td>\n",
       "      <td>7.0</td>\n",
       "      <td>94.0</td>\n",
       "      <td>ONE STOP SHOP</td>\n",
       "      <td>PACKAGE</td>\n",
       "      <td>{'type': 'Point', 'coordinates': [-94.514571, ...</td>\n",
       "      <td>5805 17TH STREET 64126-</td>\n",
       "      <td>-94.514571</td>\n",
       "      <td>39.090294</td>\n",
       "    </tr>\n",
       "    <tr>\n",
       "      <th>6</th>\n",
       "      <td>4.0</td>\n",
       "      <td>32.0</td>\n",
       "      <td>7.0</td>\n",
       "      <td>50.0</td>\n",
       "      <td>MISSOURI TITLE LOANS 2</td>\n",
       "      <td>SHORT TERM LOAN</td>\n",
       "      <td>{'type': 'Point', 'coordinates': [-94.585915, ...</td>\n",
       "      <td>3731 MAIN STREET 64111-</td>\n",
       "      <td>-94.585915</td>\n",
       "      <td>39.059078</td>\n",
       "    </tr>\n",
       "  </tbody>\n",
       "</table>\n",
       "</div>"
      ],
      "text/plain": [
       "   :@computed_region_9t2m_phkm  :@computed_region_kk66_ngf4  \\\n",
       "5                          3.0                          6.0   \n",
       "6                          4.0                         32.0   \n",
       "\n",
       "   :@computed_region_my34_vmp8  :@computed_region_w4hf_t6bp  \\\n",
       "5                          7.0                         94.0   \n",
       "6                          7.0                         50.0   \n",
       "\n",
       "             business_dba    business_type  \\\n",
       "5           ONE STOP SHOP          PACKAGE   \n",
       "6  MISSOURI TITLE LOANS 2  SHORT TERM LOAN   \n",
       "\n",
       "                                          location_1      location_1_location  \\\n",
       "5  {'type': 'Point', 'coordinates': [-94.514571, ...  5805 17TH STREET 64126-   \n",
       "6  {'type': 'Point', 'coordinates': [-94.585915, ...  3731 MAIN STREET 64111-   \n",
       "\n",
       "   longitude   latitude  \n",
       "5 -94.514571  39.090294  \n",
       "6 -94.585915  39.059078  "
      ]
     },
     "execution_count": 362,
     "metadata": {},
     "output_type": "execute_result"
    }
   ],
   "source": [
    "kc_lic.head(2)"
   ]
  },
  {
   "cell_type": "markdown",
   "metadata": {},
   "source": [
    "Entry error has led to null values in the Kansas City dataset"
   ]
  },
  {
   "cell_type": "markdown",
   "metadata": {
    "collapsed": true
   },
   "source": [
    "At this point we can see that the Kansas City dataset has latitude and longitude embeded in their location_1 column"
   ]
  },
  {
   "cell_type": "markdown",
   "metadata": {},
   "source": [
    "Kansas City lists active licenses, while Independence lists all"
   ]
  },
  {
   "cell_type": "code",
   "execution_count": 364,
   "metadata": {
    "collapsed": true
   },
   "outputs": [],
   "source": [
    "kc_lic = kc_lic[kc_lic.location_1.notnull()]"
   ]
  },
  {
   "cell_type": "code",
   "execution_count": 365,
   "metadata": {},
   "outputs": [
    {
     "data": {
      "text/plain": [
       "-94.585915"
      ]
     },
     "execution_count": 365,
     "metadata": {},
     "output_type": "execute_result"
    }
   ],
   "source": [
    "kc_lic.iloc[1][6]['coordinates'][0]"
   ]
  },
  {
   "cell_type": "code",
   "execution_count": 367,
   "metadata": {
    "collapsed": true
   },
   "outputs": [],
   "source": [
    "kc_lic['latitude']= kc_lic.location_1.apply(lambda x: get_lat_long(x,'latitude'))\n",
    "kc_lic['longitude']= kc_lic.location_1.apply(lambda x: get_lat_long(x,'longitude'))"
   ]
  },
  {
   "cell_type": "code",
   "execution_count": 368,
   "metadata": {},
   "outputs": [
    {
     "data": {
      "text/html": [
       "<div>\n",
       "<style>\n",
       "    .dataframe thead tr:only-child th {\n",
       "        text-align: right;\n",
       "    }\n",
       "\n",
       "    .dataframe thead th {\n",
       "        text-align: left;\n",
       "    }\n",
       "\n",
       "    .dataframe tbody tr th {\n",
       "        vertical-align: top;\n",
       "    }\n",
       "</style>\n",
       "<table border=\"1\" class=\"dataframe\">\n",
       "  <thead>\n",
       "    <tr style=\"text-align: right;\">\n",
       "      <th></th>\n",
       "      <th>:@computed_region_9t2m_phkm</th>\n",
       "      <th>:@computed_region_kk66_ngf4</th>\n",
       "      <th>:@computed_region_my34_vmp8</th>\n",
       "      <th>:@computed_region_w4hf_t6bp</th>\n",
       "      <th>business_dba</th>\n",
       "      <th>business_type</th>\n",
       "      <th>location_1</th>\n",
       "      <th>location_1_location</th>\n",
       "      <th>latitude</th>\n",
       "      <th>longitude</th>\n",
       "    </tr>\n",
       "  </thead>\n",
       "  <tbody>\n",
       "    <tr>\n",
       "      <th>5</th>\n",
       "      <td>3.0</td>\n",
       "      <td>6.0</td>\n",
       "      <td>7.0</td>\n",
       "      <td>94.0</td>\n",
       "      <td>ONE STOP SHOP</td>\n",
       "      <td>PACKAGE</td>\n",
       "      <td>{'type': 'Point', 'coordinates': [-94.514571, ...</td>\n",
       "      <td>5805 17TH STREET 64126-</td>\n",
       "      <td>39.090294</td>\n",
       "      <td>-94.514571</td>\n",
       "    </tr>\n",
       "    <tr>\n",
       "      <th>6</th>\n",
       "      <td>4.0</td>\n",
       "      <td>32.0</td>\n",
       "      <td>7.0</td>\n",
       "      <td>50.0</td>\n",
       "      <td>MISSOURI TITLE LOANS 2</td>\n",
       "      <td>SHORT TERM LOAN</td>\n",
       "      <td>{'type': 'Point', 'coordinates': [-94.585915, ...</td>\n",
       "      <td>3731 MAIN STREET 64111-</td>\n",
       "      <td>39.059078</td>\n",
       "      <td>-94.585915</td>\n",
       "    </tr>\n",
       "  </tbody>\n",
       "</table>\n",
       "</div>"
      ],
      "text/plain": [
       "   :@computed_region_9t2m_phkm  :@computed_region_kk66_ngf4  \\\n",
       "5                          3.0                          6.0   \n",
       "6                          4.0                         32.0   \n",
       "\n",
       "   :@computed_region_my34_vmp8  :@computed_region_w4hf_t6bp  \\\n",
       "5                          7.0                         94.0   \n",
       "6                          7.0                         50.0   \n",
       "\n",
       "             business_dba    business_type  \\\n",
       "5           ONE STOP SHOP          PACKAGE   \n",
       "6  MISSOURI TITLE LOANS 2  SHORT TERM LOAN   \n",
       "\n",
       "                                          location_1      location_1_location  \\\n",
       "5  {'type': 'Point', 'coordinates': [-94.514571, ...  5805 17TH STREET 64126-   \n",
       "6  {'type': 'Point', 'coordinates': [-94.585915, ...  3731 MAIN STREET 64111-   \n",
       "\n",
       "    latitude  longitude  \n",
       "5  39.090294 -94.514571  \n",
       "6  39.059078 -94.585915  "
      ]
     },
     "execution_count": 368,
     "metadata": {},
     "output_type": "execute_result"
    }
   ],
   "source": [
    "kc_lic.head(2)"
   ]
  },
  {
   "cell_type": "code",
   "execution_count": 369,
   "metadata": {
    "collapsed": true
   },
   "outputs": [],
   "source": [
    "data_to_csv(kc_lic[['business_dba','business_type','location_1','location_1_location','latitude','longitude']], 'kc_lic.csv')"
   ]
  },
  {
   "cell_type": "code",
   "execution_count": 224,
   "metadata": {
    "collapsed": true
   },
   "outputs": [],
   "source": [
    "%matplotlib inline"
   ]
  },
  {
   "cell_type": "code",
   "execution_count": 217,
   "metadata": {
    "collapsed": true
   },
   "outputs": [],
   "source": [
    "jackson = gp.read_file('jackson_co.geojson')\n"
   ]
  },
  {
   "cell_type": "code",
   "execution_count": 218,
   "metadata": {},
   "outputs": [
    {
     "data": {
      "text/html": [
       "<div>\n",
       "<style>\n",
       "    .dataframe thead tr:only-child th {\n",
       "        text-align: right;\n",
       "    }\n",
       "\n",
       "    .dataframe thead th {\n",
       "        text-align: left;\n",
       "    }\n",
       "\n",
       "    .dataframe tbody tr th {\n",
       "        vertical-align: top;\n",
       "    }\n",
       "</style>\n",
       "<table border=\"1\" class=\"dataframe\">\n",
       "  <thead>\n",
       "    <tr style=\"text-align: right;\">\n",
       "      <th></th>\n",
       "      <th>AFFGEOID</th>\n",
       "      <th>ALAND</th>\n",
       "      <th>AWATER</th>\n",
       "      <th>COUNTYFP</th>\n",
       "      <th>COUNTYNS</th>\n",
       "      <th>GEOID</th>\n",
       "      <th>LSAD</th>\n",
       "      <th>NAME</th>\n",
       "      <th>STATEFP</th>\n",
       "      <th>geometry</th>\n",
       "    </tr>\n",
       "  </thead>\n",
       "  <tbody>\n",
       "    <tr>\n",
       "      <th>0</th>\n",
       "      <td>0500000US29095</td>\n",
       "      <td>1.565588e+09</td>\n",
       "      <td>30483965.0</td>\n",
       "      <td>095</td>\n",
       "      <td>00758502</td>\n",
       "      <td>29095</td>\n",
       "      <td>06</td>\n",
       "      <td>Jackson</td>\n",
       "      <td>29</td>\n",
       "      <td>POLYGON ((-94.608334 38.981806, -94.6083049915...</td>\n",
       "    </tr>\n",
       "  </tbody>\n",
       "</table>\n",
       "</div>"
      ],
      "text/plain": [
       "         AFFGEOID         ALAND      AWATER COUNTYFP  COUNTYNS  GEOID LSAD  \\\n",
       "0  0500000US29095  1.565588e+09  30483965.0      095  00758502  29095   06   \n",
       "\n",
       "      NAME STATEFP                                           geometry  \n",
       "0  Jackson      29  POLYGON ((-94.608334 38.981806, -94.6083049915...  "
      ]
     },
     "execution_count": 218,
     "metadata": {},
     "output_type": "execute_result"
    }
   ],
   "source": [
    "jackson.head()"
   ]
  },
  {
   "cell_type": "code",
   "execution_count": 274,
   "metadata": {},
   "outputs": [
    {
     "data": {
      "text/plain": [
       "1565587846.0"
      ]
     },
     "execution_count": 274,
     "metadata": {},
     "output_type": "execute_result"
    }
   ],
   "source": [
    "jackson.loc[0]['ALAND']"
   ]
  },
  {
   "cell_type": "code",
   "execution_count": 370,
   "metadata": {
    "scrolled": true
   },
   "outputs": [
    {
     "data": {
      "text/plain": [
       "<matplotlib.axes._subplots.AxesSubplot at 0x124681048>"
      ]
     },
     "execution_count": 370,
     "metadata": {},
     "output_type": "execute_result"
    },
    {
     "data": {
      "image/png": "[encoded data removed]",
      "text/plain": [
       "<matplotlib.figure.Figure at 0x123eafb00>"
      ]
     },
     "metadata": {},
     "output_type": "display_data"
    }
   ],
   "source": [
    "base = jackson.plot(column='ALAND', cmap='Blues', figsize=(15,15) )\n",
    "kc_lic.plot(ax=base,kind='scatter', x='longitude', y='latitude', figsize=(15,15))\n",
    "ind_lic.plot(ax=base,kind='scatter', x='longitude', y='latitude', figsize=(15,15))"
   ]
  },
  {
   "cell_type": "code",
   "execution_count": 392,
   "metadata": {},
   "outputs": [
    {
     "name": "stdout",
     "output_type": "stream",
     "text": [
      "1378 906\n"
     ]
    }
   ],
   "source": [
    "print(len(ind_lic[ind_lic['AccountStatus']=='AC']),len(kc_lic))"
   ]
  },
  {
   "cell_type": "code",
   "execution_count": 391,
   "metadata": {
    "collapsed": true
   },
   "outputs": [],
   "source": [
    "data_to_csv(ind_lic[ind_lic['AccountStatus']=='AC'], 'ind_lic.csv')"
   ]
  },
  {
   "cell_type": "code",
   "execution_count": 404,
   "metadata": {},
   "outputs": [
    {
     "name": "stderr",
     "output_type": "stream",
     "text": [
      "/Users/summerfellow/anaconda3/lib/python3.6/site-packages/urllib3/connectionpool.py:852: InsecureRequestWarning: Unverified HTTPS request is being made. Adding certificate verification is strongly advised. See: https://urllib3.readthedocs.io/en/latest/advanced-usage.html#ssl-warnings\n",
      "  InsecureRequestWarning)\n",
      "/Users/summerfellow/anaconda3/lib/python3.6/site-packages/urllib3/connectionpool.py:852: InsecureRequestWarning: Unverified HTTPS request is being made. Adding certificate verification is strongly advised. See: https://urllib3.readthedocs.io/en/latest/advanced-usage.html#ssl-warnings\n",
      "  InsecureRequestWarning)\n"
     ]
    }
   ],
   "source": [
    "soup = get_soup('https://data.kcmo.org/resource/rmk6-sicm.json')"
   ]
  },
  {
   "cell_type": "code",
   "execution_count": 61,
   "metadata": {
    "collapsed": true
   },
   "outputs": [],
   "source": [
    "ind_lic = pd.read_csv('ind_lic.csv')"
   ]
  },
  {
   "cell_type": "code",
   "execution_count": 62,
   "metadata": {
    "collapsed": true
   },
   "outputs": [],
   "source": [
    "kc_lic = pd.read_csv('kc_lic.csv')"
   ]
  },
  {
   "cell_type": "code",
   "execution_count": 63,
   "metadata": {
    "collapsed": true
   },
   "outputs": [],
   "source": [
    "pd.options.display.max_columns = 100\n",
    "kc_lic = kc_lic.rename(columns={'location_1_location':'address'})"
   ]
  },
  {
   "cell_type": "code",
   "execution_count": 64,
   "metadata": {
    "collapsed": true
   },
   "outputs": [],
   "source": [
    "kc_lic = kc_lic[['business_dba','business_type','address','latitude','longitude']]"
   ]
  },
  {
   "cell_type": "code",
   "execution_count": 65,
   "metadata": {},
   "outputs": [
    {
     "data": {
      "text/html": [
       "<div>\n",
       "<style>\n",
       "    .dataframe thead tr:only-child th {\n",
       "        text-align: right;\n",
       "    }\n",
       "\n",
       "    .dataframe thead th {\n",
       "        text-align: left;\n",
       "    }\n",
       "\n",
       "    .dataframe tbody tr th {\n",
       "        vertical-align: top;\n",
       "    }\n",
       "</style>\n",
       "<table border=\"1\" class=\"dataframe\">\n",
       "  <thead>\n",
       "    <tr style=\"text-align: right;\">\n",
       "      <th></th>\n",
       "      <th>BusinessName</th>\n",
       "      <th>BusinessDescription</th>\n",
       "      <th>Address</th>\n",
       "      <th>City</th>\n",
       "      <th>ZIPcode</th>\n",
       "      <th>latitude</th>\n",
       "      <th>longitude</th>\n",
       "    </tr>\n",
       "  </thead>\n",
       "  <tbody>\n",
       "    <tr>\n",
       "      <th>0</th>\n",
       "      <td>MISSOURI FREEDOM FUND</td>\n",
       "      <td>Jewelry Sales/Design/Repair</td>\n",
       "      <td>716  N LIBERTY ST</td>\n",
       "      <td>INDEPENDENCE</td>\n",
       "      <td>64050</td>\n",
       "      <td>39.097321</td>\n",
       "      <td>-94.434074</td>\n",
       "    </tr>\n",
       "    <tr>\n",
       "      <th>1</th>\n",
       "      <td>A &amp; A AUTO SALES &amp; SERVICE</td>\n",
       "      <td>Auto/Truck Sales/Used</td>\n",
       "      <td>9514  E 23RD ST S C</td>\n",
       "      <td>INDEPENDENCE</td>\n",
       "      <td>64052</td>\n",
       "      <td>39.081612</td>\n",
       "      <td>-94.466927</td>\n",
       "    </tr>\n",
       "    <tr>\n",
       "      <th>2</th>\n",
       "      <td>A &amp; A AUTO SALES &amp; SERVICE</td>\n",
       "      <td>Auto/Truck Sales/Used</td>\n",
       "      <td>9514  E 23RD ST S C</td>\n",
       "      <td>INDEPENDENCE</td>\n",
       "      <td>64052</td>\n",
       "      <td>39.081612</td>\n",
       "      <td>-94.466927</td>\n",
       "    </tr>\n",
       "    <tr>\n",
       "      <th>3</th>\n",
       "      <td>A &amp; A AUTO SALES &amp; SERVICE</td>\n",
       "      <td>Auto/Truck Sales/Used</td>\n",
       "      <td>9514  E 23RD ST S C</td>\n",
       "      <td>INDEPENDENCE</td>\n",
       "      <td>64052</td>\n",
       "      <td>39.081612</td>\n",
       "      <td>-94.466927</td>\n",
       "    </tr>\n",
       "    <tr>\n",
       "      <th>4</th>\n",
       "      <td>A SECRET GARDEN</td>\n",
       "      <td>Gift/Novelty/Specialty Items</td>\n",
       "      <td>11014  E WINNER RD</td>\n",
       "      <td>INDEPENDENCE</td>\n",
       "      <td>64052</td>\n",
       "      <td>39.087975</td>\n",
       "      <td>-94.447609</td>\n",
       "    </tr>\n",
       "  </tbody>\n",
       "</table>\n",
       "</div>"
      ],
      "text/plain": [
       "                 BusinessName           BusinessDescription  \\\n",
       "0       MISSOURI FREEDOM FUND   Jewelry Sales/Design/Repair   \n",
       "1  A & A AUTO SALES & SERVICE         Auto/Truck Sales/Used   \n",
       "2  A & A AUTO SALES & SERVICE         Auto/Truck Sales/Used   \n",
       "3  A & A AUTO SALES & SERVICE         Auto/Truck Sales/Used   \n",
       "4             A SECRET GARDEN  Gift/Novelty/Specialty Items   \n",
       "\n",
       "               Address          City  ZIPcode   latitude  longitude  \n",
       "0    716  N LIBERTY ST  INDEPENDENCE    64050  39.097321 -94.434074  \n",
       "1  9514  E 23RD ST S C  INDEPENDENCE    64052  39.081612 -94.466927  \n",
       "2  9514  E 23RD ST S C  INDEPENDENCE    64052  39.081612 -94.466927  \n",
       "3  9514  E 23RD ST S C  INDEPENDENCE    64052  39.081612 -94.466927  \n",
       "4   11014  E WINNER RD  INDEPENDENCE    64052  39.087975 -94.447609  "
      ]
     },
     "execution_count": 65,
     "metadata": {},
     "output_type": "execute_result"
    }
   ],
   "source": [
    "ind_lic[['BusinessName','BusinessDescription','Address','City','ZIPcode','latitude','longitude']].head()"
   ]
  },
  {
   "cell_type": "code",
   "execution_count": 67,
   "metadata": {
    "collapsed": true
   },
   "outputs": [],
   "source": [
    "kc_lic['zip_code'] = kc_lic.address.apply(lambda x: get_zip(x))"
   ]
  },
  {
   "cell_type": "code",
   "execution_count": 68,
   "metadata": {
    "collapsed": true
   },
   "outputs": [],
   "source": [
    "kc_lic['address'] = kc_lic.address.apply(lambda x: strip_address(x))"
   ]
  },
  {
   "cell_type": "code",
   "execution_count": 70,
   "metadata": {
    "collapsed": true
   },
   "outputs": [],
   "source": [
    "ind_lic = ind_lic[['BusinessName','BusinessDescription','Address','City','ZIPcode','latitude','longitude']].rename(columns = {'BusinessName':'business_dba', 'BusinessDescription':'business_type','Address':'address','City':'city','ZIPcode':'zip_code'})"
   ]
  },
  {
   "cell_type": "code",
   "execution_count": 72,
   "metadata": {},
   "outputs": [
    {
     "data": {
      "text/html": [
       "<div>\n",
       "<style>\n",
       "    .dataframe thead tr:only-child th {\n",
       "        text-align: right;\n",
       "    }\n",
       "\n",
       "    .dataframe thead th {\n",
       "        text-align: left;\n",
       "    }\n",
       "\n",
       "    .dataframe tbody tr th {\n",
       "        vertical-align: top;\n",
       "    }\n",
       "</style>\n",
       "<table border=\"1\" class=\"dataframe\">\n",
       "  <thead>\n",
       "    <tr style=\"text-align: right;\">\n",
       "      <th></th>\n",
       "      <th>business_dba</th>\n",
       "      <th>business_type</th>\n",
       "      <th>address</th>\n",
       "      <th>city</th>\n",
       "      <th>zip_code</th>\n",
       "      <th>latitude</th>\n",
       "      <th>longitude</th>\n",
       "    </tr>\n",
       "  </thead>\n",
       "  <tbody>\n",
       "    <tr>\n",
       "      <th>0</th>\n",
       "      <td>MISSOURI FREEDOM FUND</td>\n",
       "      <td>Jewelry Sales/Design/Repair</td>\n",
       "      <td>716  N LIBERTY ST</td>\n",
       "      <td>INDEPENDENCE</td>\n",
       "      <td>64050</td>\n",
       "      <td>39.097321</td>\n",
       "      <td>-94.434074</td>\n",
       "    </tr>\n",
       "    <tr>\n",
       "      <th>1</th>\n",
       "      <td>A &amp; A AUTO SALES &amp; SERVICE</td>\n",
       "      <td>Auto/Truck Sales/Used</td>\n",
       "      <td>9514  E 23RD ST S C</td>\n",
       "      <td>INDEPENDENCE</td>\n",
       "      <td>64052</td>\n",
       "      <td>39.081612</td>\n",
       "      <td>-94.466927</td>\n",
       "    </tr>\n",
       "    <tr>\n",
       "      <th>2</th>\n",
       "      <td>A &amp; A AUTO SALES &amp; SERVICE</td>\n",
       "      <td>Auto/Truck Sales/Used</td>\n",
       "      <td>9514  E 23RD ST S C</td>\n",
       "      <td>INDEPENDENCE</td>\n",
       "      <td>64052</td>\n",
       "      <td>39.081612</td>\n",
       "      <td>-94.466927</td>\n",
       "    </tr>\n",
       "    <tr>\n",
       "      <th>3</th>\n",
       "      <td>A &amp; A AUTO SALES &amp; SERVICE</td>\n",
       "      <td>Auto/Truck Sales/Used</td>\n",
       "      <td>9514  E 23RD ST S C</td>\n",
       "      <td>INDEPENDENCE</td>\n",
       "      <td>64052</td>\n",
       "      <td>39.081612</td>\n",
       "      <td>-94.466927</td>\n",
       "    </tr>\n",
       "    <tr>\n",
       "      <th>4</th>\n",
       "      <td>A SECRET GARDEN</td>\n",
       "      <td>Gift/Novelty/Specialty Items</td>\n",
       "      <td>11014  E WINNER RD</td>\n",
       "      <td>INDEPENDENCE</td>\n",
       "      <td>64052</td>\n",
       "      <td>39.087975</td>\n",
       "      <td>-94.447609</td>\n",
       "    </tr>\n",
       "  </tbody>\n",
       "</table>\n",
       "</div>"
      ],
      "text/plain": [
       "                 business_dba                 business_type  \\\n",
       "0       MISSOURI FREEDOM FUND   Jewelry Sales/Design/Repair   \n",
       "1  A & A AUTO SALES & SERVICE         Auto/Truck Sales/Used   \n",
       "2  A & A AUTO SALES & SERVICE         Auto/Truck Sales/Used   \n",
       "3  A & A AUTO SALES & SERVICE         Auto/Truck Sales/Used   \n",
       "4             A SECRET GARDEN  Gift/Novelty/Specialty Items   \n",
       "\n",
       "               address          city  zip_code   latitude  longitude  \n",
       "0    716  N LIBERTY ST  INDEPENDENCE     64050  39.097321 -94.434074  \n",
       "1  9514  E 23RD ST S C  INDEPENDENCE     64052  39.081612 -94.466927  \n",
       "2  9514  E 23RD ST S C  INDEPENDENCE     64052  39.081612 -94.466927  \n",
       "3  9514  E 23RD ST S C  INDEPENDENCE     64052  39.081612 -94.466927  \n",
       "4   11014  E WINNER RD  INDEPENDENCE     64052  39.087975 -94.447609  "
      ]
     },
     "execution_count": 72,
     "metadata": {},
     "output_type": "execute_result"
    }
   ],
   "source": [
    "ind_lic.head()"
   ]
  },
  {
   "cell_type": "code",
   "execution_count": 73,
   "metadata": {
    "collapsed": true
   },
   "outputs": [],
   "source": [
    "kc_lic['city'] = 'Kansas City'"
   ]
  },
  {
   "cell_type": "code",
   "execution_count": 74,
   "metadata": {
    "collapsed": true
   },
   "outputs": [],
   "source": [
    "jackson_lic = pd.concat([kc_lic,ind_lic], axis =0)"
   ]
  },
  {
   "cell_type": "code",
   "execution_count": 76,
   "metadata": {
    "collapsed": true
   },
   "outputs": [],
   "source": [
    "data_to_csv(jackson_lic,'jackson_lic.csv')"
   ]
  },
  {
   "cell_type": "code",
   "execution_count": 75,
   "metadata": {},
   "outputs": [
    {
     "data": {
      "text/html": [
       "<div>\n",
       "<style>\n",
       "    .dataframe thead tr:only-child th {\n",
       "        text-align: right;\n",
       "    }\n",
       "\n",
       "    .dataframe thead th {\n",
       "        text-align: left;\n",
       "    }\n",
       "\n",
       "    .dataframe tbody tr th {\n",
       "        vertical-align: top;\n",
       "    }\n",
       "</style>\n",
       "<table border=\"1\" class=\"dataframe\">\n",
       "  <thead>\n",
       "    <tr style=\"text-align: right;\">\n",
       "      <th></th>\n",
       "      <th>address</th>\n",
       "      <th>business_dba</th>\n",
       "      <th>business_type</th>\n",
       "      <th>city</th>\n",
       "      <th>latitude</th>\n",
       "      <th>longitude</th>\n",
       "      <th>zip_code</th>\n",
       "    </tr>\n",
       "  </thead>\n",
       "  <tbody>\n",
       "    <tr>\n",
       "      <th>0</th>\n",
       "      <td>5805 17TH STREET</td>\n",
       "      <td>ONE STOP SHOP</td>\n",
       "      <td>PACKAGE</td>\n",
       "      <td>Kansas City</td>\n",
       "      <td>39.090294</td>\n",
       "      <td>-94.514571</td>\n",
       "      <td>64126</td>\n",
       "    </tr>\n",
       "    <tr>\n",
       "      <th>1</th>\n",
       "      <td>3731 MAIN STREET</td>\n",
       "      <td>MISSOURI TITLE LOANS 2</td>\n",
       "      <td>SHORT TERM LOAN</td>\n",
       "      <td>Kansas City</td>\n",
       "      <td>39.059078</td>\n",
       "      <td>-94.585915</td>\n",
       "      <td>64111</td>\n",
       "    </tr>\n",
       "    <tr>\n",
       "      <th>2</th>\n",
       "      <td>1823 39TH STREET</td>\n",
       "      <td>JIMMY'S JIGGER/JAZZ, A LOUISIANA KICTHEN</td>\n",
       "      <td>RESTAURANT-BAR</td>\n",
       "      <td>Kansas City</td>\n",
       "      <td>39.057288</td>\n",
       "      <td>-94.606535</td>\n",
       "      <td>64111</td>\n",
       "    </tr>\n",
       "    <tr>\n",
       "      <th>3</th>\n",
       "      <td>2636 VAN BRUNT BLVD</td>\n",
       "      <td>7-ELEVEN STORE #18711C</td>\n",
       "      <td>PACKAGE</td>\n",
       "      <td>Kansas City</td>\n",
       "      <td>39.076321</td>\n",
       "      <td>-94.520576</td>\n",
       "      <td>64127</td>\n",
       "    </tr>\n",
       "    <tr>\n",
       "      <th>4</th>\n",
       "      <td>1700 E 18TH STREET</td>\n",
       "      <td>KANSAS CITY BLUES JUKE HOUSE</td>\n",
       "      <td>RESTAURANT-BAR</td>\n",
       "      <td>Kansas City</td>\n",
       "      <td>39.091195</td>\n",
       "      <td>-94.562012</td>\n",
       "      <td>64108</td>\n",
       "    </tr>\n",
       "  </tbody>\n",
       "</table>\n",
       "</div>"
      ],
      "text/plain": [
       "               address                              business_dba  \\\n",
       "0    5805 17TH STREET                              ONE STOP SHOP   \n",
       "1    3731 MAIN STREET                     MISSOURI TITLE LOANS 2   \n",
       "2     1823 39TH STREET  JIMMY'S JIGGER/JAZZ, A LOUISIANA KICTHEN   \n",
       "3  2636 VAN BRUNT BLVD                    7-ELEVEN STORE #18711C   \n",
       "4  1700 E 18TH STREET               KANSAS CITY BLUES JUKE HOUSE   \n",
       "\n",
       "     business_type         city   latitude  longitude zip_code  \n",
       "0          PACKAGE  Kansas City  39.090294 -94.514571    64126  \n",
       "1  SHORT TERM LOAN  Kansas City  39.059078 -94.585915    64111  \n",
       "2   RESTAURANT-BAR  Kansas City  39.057288 -94.606535    64111  \n",
       "3          PACKAGE  Kansas City  39.076321 -94.520576    64127  \n",
       "4   RESTAURANT-BAR  Kansas City  39.091195 -94.562012    64108  "
      ]
     },
     "execution_count": 75,
     "metadata": {},
     "output_type": "execute_result"
    }
   ],
   "source": [
    "jackson_lic.head()"
   ]
  },
  {
   "cell_type": "code",
   "execution_count": null,
   "metadata": {
    "collapsed": true
   },
   "outputs": [],
   "source": []
  }
 ],
 "metadata": {
  "kernelspec": {
   "display_name": "Python 2",
   "language": "python",
   "name": "python2"
  },
  "language_info": {
   "codemirror_mode": {
    "name": "ipython",
    "version": 3
   },
   "file_extension": ".py",
   "mimetype": "text/x-python",
   "name": "python",
   "nbconvert_exporter": "python",
   "pygments_lexer": "ipython3",
   "version": "3.6.1"
  }
 },
 "nbformat": 4,
 "nbformat_minor": 2
}
