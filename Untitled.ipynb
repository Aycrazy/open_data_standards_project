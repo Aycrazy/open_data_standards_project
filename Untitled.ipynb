{
 "cells": [
  {
   "cell_type": "code",
   "execution_count": 2,
   "metadata": {},
   "outputs": [
    {
     "name": "stderr",
     "output_type": "stream",
     "text": [
      "WARNING:Fiona:PROJ data files not located, PROJ_LIB not set\n"
     ]
    }
   ],
   "source": [
    "%run scripts/python/standardize.py\n",
    "%matplotlib inline"
   ]
  },
  {
   "cell_type": "code",
   "execution_count": 3,
   "metadata": {},
   "outputs": [
    {
     "data": {
      "text/html": [
       "<div>\n",
       "<style>\n",
       "    .dataframe thead tr:only-child th {\n",
       "        text-align: right;\n",
       "    }\n",
       "\n",
       "    .dataframe thead th {\n",
       "        text-align: left;\n",
       "    }\n",
       "\n",
       "    .dataframe tbody tr th {\n",
       "        vertical-align: top;\n",
       "    }\n",
       "</style>\n",
       "<table border=\"1\" class=\"dataframe\">\n",
       "  <thead>\n",
       "    <tr style=\"text-align: right;\">\n",
       "      <th></th>\n",
       "      <th>@context</th>\n",
       "      <th>@id</th>\n",
       "      <th>@type</th>\n",
       "      <th>conformsTo</th>\n",
       "      <th>dataset</th>\n",
       "      <th>describedBy</th>\n",
       "    </tr>\n",
       "  </thead>\n",
       "  <tbody>\n",
       "    <tr>\n",
       "      <th>0</th>\n",
       "      <td>https://project-open-data.cio.gov/v1.1/schema/...</td>\n",
       "      <td>https://api.census.gov/data/2016/pep/populatio...</td>\n",
       "      <td>dcat:Catalog</td>\n",
       "      <td>https://project-open-data.cio.gov/v1.1/schema</td>\n",
       "      <td>{'c_vintage': 2016, 'c_dataset': ['pep', 'popu...</td>\n",
       "      <td>https://project-open-data.cio.gov/v1.1/schema/...</td>\n",
       "    </tr>\n",
       "  </tbody>\n",
       "</table>\n",
       "</div>"
      ],
      "text/plain": [
       "                                            @context  \\\n",
       "0  https://project-open-data.cio.gov/v1.1/schema/...   \n",
       "\n",
       "                                                 @id         @type  \\\n",
       "0  https://api.census.gov/data/2016/pep/populatio...  dcat:Catalog   \n",
       "\n",
       "                                      conformsTo  \\\n",
       "0  https://project-open-data.cio.gov/v1.1/schema   \n",
       "\n",
       "                                             dataset  \\\n",
       "0  {'c_vintage': 2016, 'c_dataset': ['pep', 'popu...   \n",
       "\n",
       "                                         describedBy  \n",
       "0  https://project-open-data.cio.gov/v1.1/schema/...  "
      ]
     },
     "execution_count": 3,
     "metadata": {},
     "output_type": "execute_result"
    }
   ],
   "source": [
    "pd.read_json('https://api.census.gov/data/2016/pep/population')"
   ]
  },
  {
   "cell_type": "code",
   "execution_count": null,
   "metadata": {
    "collapsed": true
   },
   "outputs": [],
   "source": []
  }
 ],
 "metadata": {
  "kernelspec": {
   "display_name": "Python 3",
   "language": "python",
   "name": "python3"
  },
  "language_info": {
   "codemirror_mode": {
    "name": "ipython",
    "version": 3
   },
   "file_extension": ".py",
   "mimetype": "text/x-python",
   "name": "python",
   "nbconvert_exporter": "python",
   "pygments_lexer": "ipython3",
   "version": "3.6.1"
  }
 },
 "nbformat": 4,
 "nbformat_minor": 2
}
