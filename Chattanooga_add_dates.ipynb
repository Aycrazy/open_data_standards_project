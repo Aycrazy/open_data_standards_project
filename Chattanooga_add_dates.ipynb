{
 "cells": [
  {
   "cell_type": "code",
   "execution_count": 36,
   "metadata": {
    "collapsed": true
   },
   "outputs": [],
   "source": [
    "%run scripts/python/standardize.py\n",
    "%matplotlib inline\n",
    "pd.set_option('max_columns',50)"
   ]
  },
  {
   "cell_type": "code",
   "execution_count": 2,
   "metadata": {
    "collapsed": true
   },
   "outputs": [],
   "source": [
    "chatt_data = pd.read_csv('_data/blds_csvs/cities/Chattanooga.csv')"
   ]
  },
  {
   "cell_type": "code",
   "execution_count": 3,
   "metadata": {
    "collapsed": true
   },
   "outputs": [],
   "source": [
    "add_year_month_day_df(chatt_data,'issueddate','issued')"
   ]
  },
  {
   "cell_type": "code",
   "execution_count": 5,
   "metadata": {},
   "outputs": [
    {
     "data": {
      "text/html": [
       "<div>\n",
       "<style>\n",
       "    .dataframe thead tr:only-child th {\n",
       "        text-align: right;\n",
       "    }\n",
       "\n",
       "    .dataframe thead th {\n",
       "        text-align: left;\n",
       "    }\n",
       "\n",
       "    .dataframe tbody tr th {\n",
       "        vertical-align: top;\n",
       "    }\n",
       "</style>\n",
       "<table border=\"1\" class=\"dataframe\">\n",
       "  <thead>\n",
       "    <tr style=\"text-align: right;\">\n",
       "      <th></th>\n",
       "      <th>Unnamed: 0</th>\n",
       "      <th>applieddate</th>\n",
       "      <th>contractorcompanyname</th>\n",
       "      <th>contractorlicnum</th>\n",
       "      <th>contractorphone</th>\n",
       "      <th>description</th>\n",
       "      <th>estprojectcost</th>\n",
       "      <th>fee</th>\n",
       "      <th>issueddate</th>\n",
       "      <th>lastupdated</th>\n",
       "      <th>originaladdress1</th>\n",
       "      <th>originaladdresslocation</th>\n",
       "      <th>city</th>\n",
       "      <th>state</th>\n",
       "      <th>originalzip</th>\n",
       "      <th>permitclass</th>\n",
       "      <th>permitnum</th>\n",
       "      <th>permittype</th>\n",
       "      <th>pin</th>\n",
       "      <th>status</th>\n",
       "      <th>statusdate</th>\n",
       "      <th>units</th>\n",
       "      <th>latitude</th>\n",
       "      <th>longitude</th>\n",
       "      <th>permittypemapped</th>\n",
       "      <th>issuedYear</th>\n",
       "      <th>issuedMonth</th>\n",
       "      <th>issuedDay</th>\n",
       "    </tr>\n",
       "  </thead>\n",
       "  <tbody>\n",
       "    <tr>\n",
       "      <th>0</th>\n",
       "      <td>0</td>\n",
       "      <td>2009-02-10T00:00:00</td>\n",
       "      <td>OWNER</td>\n",
       "      <td>0000000</td>\n",
       "      <td>NaN</td>\n",
       "      <td>MAJOR REPAIRS TO EXISTING SINGLE FAMILY RESIDENCE</td>\n",
       "      <td>22500.0</td>\n",
       "      <td>150.0</td>\n",
       "      <td>2009-02-10T00:00:00</td>\n",
       "      <td>20090826.0</td>\n",
       "      <td>3501 04TH AVE</td>\n",
       "      <td>NaN</td>\n",
       "      <td>CHATTANOOGA</td>\n",
       "      <td>TN</td>\n",
       "      <td>37407.0</td>\n",
       "      <td>Building Permit</td>\n",
       "      <td>09-10159</td>\n",
       "      <td>Building/Building Permit/Residential (1-2 Unit...</td>\n",
       "      <td>033168A H 00200</td>\n",
       "      <td>Closed</td>\n",
       "      <td>2009-08-26T00:00:00</td>\n",
       "      <td>1.0</td>\n",
       "      <td>NaN</td>\n",
       "      <td>NaN</td>\n",
       "      <td>BUILDING</td>\n",
       "      <td>2009.0</td>\n",
       "      <td>2.0</td>\n",
       "      <td>1.0</td>\n",
       "    </tr>\n",
       "  </tbody>\n",
       "</table>\n",
       "</div>"
      ],
      "text/plain": [
       "   Unnamed: 0          applieddate contractorcompanyname contractorlicnum  \\\n",
       "0           0  2009-02-10T00:00:00                 OWNER          0000000   \n",
       "\n",
       "  contractorphone                                        description  \\\n",
       "0             NaN  MAJOR REPAIRS TO EXISTING SINGLE FAMILY RESIDENCE   \n",
       "\n",
       "   estprojectcost    fee           issueddate  lastupdated originaladdress1  \\\n",
       "0         22500.0  150.0  2009-02-10T00:00:00   20090826.0    3501 04TH AVE   \n",
       "\n",
       "  originaladdresslocation         city state  originalzip      permitclass  \\\n",
       "0                     NaN  CHATTANOOGA    TN      37407.0  Building Permit   \n",
       "\n",
       "  permitnum                                         permittype  \\\n",
       "0  09-10159  Building/Building Permit/Residential (1-2 Unit...   \n",
       "\n",
       "               pin  status           statusdate  units  latitude  longitude  \\\n",
       "0  033168A H 00200  Closed  2009-08-26T00:00:00    1.0       NaN        NaN   \n",
       "\n",
       "  permittypemapped  issuedYear  issuedMonth  issuedDay  \n",
       "0         BUILDING      2009.0          2.0        1.0  "
      ]
     },
     "execution_count": 5,
     "metadata": {},
     "output_type": "execute_result"
    }
   ],
   "source": [
    "chatt_data.head(1)"
   ]
  },
  {
   "cell_type": "code",
   "execution_count": 7,
   "metadata": {
    "collapsed": true
   },
   "outputs": [],
   "source": [
    "chatt_data.to_csv('_data/Chattanooga.csv')"
   ]
  },
  {
   "cell_type": "code",
   "execution_count": 8,
   "metadata": {
    "collapsed": true
   },
   "outputs": [],
   "source": [
    "chatt_plot = chatt_data.groupby(['permittypemapped','issuedMonth']).size().to_frame().reset_index().rename(columns={0:'tally'})"
   ]
  },
  {
   "cell_type": "markdown",
   "metadata": {},
   "source": [
    "This is clearly not a comprehensive dataset. I wonder why San Diego is only able to provide data for 3 years (2010,15, and 17) after 2010."
   ]
  },
  {
   "cell_type": "code",
   "execution_count": 9,
   "metadata": {},
   "outputs": [
    {
     "data": {
      "text/html": [
       "<div>\n",
       "<style>\n",
       "    .dataframe thead tr:only-child th {\n",
       "        text-align: right;\n",
       "    }\n",
       "\n",
       "    .dataframe thead th {\n",
       "        text-align: left;\n",
       "    }\n",
       "\n",
       "    .dataframe tbody tr th {\n",
       "        vertical-align: top;\n",
       "    }\n",
       "</style>\n",
       "<table border=\"1\" class=\"dataframe\">\n",
       "  <thead>\n",
       "    <tr style=\"text-align: right;\">\n",
       "      <th></th>\n",
       "      <th>permittypemapped</th>\n",
       "      <th>issuedMonth</th>\n",
       "      <th>tally</th>\n",
       "    </tr>\n",
       "  </thead>\n",
       "  <tbody>\n",
       "    <tr>\n",
       "      <th>0</th>\n",
       "      <td>BUILDING</td>\n",
       "      <td>1.0</td>\n",
       "      <td>105</td>\n",
       "    </tr>\n",
       "    <tr>\n",
       "      <th>1</th>\n",
       "      <td>BUILDING</td>\n",
       "      <td>2.0</td>\n",
       "      <td>121</td>\n",
       "    </tr>\n",
       "    <tr>\n",
       "      <th>2</th>\n",
       "      <td>BUILDING</td>\n",
       "      <td>3.0</td>\n",
       "      <td>120</td>\n",
       "    </tr>\n",
       "    <tr>\n",
       "      <th>3</th>\n",
       "      <td>BUILDING</td>\n",
       "      <td>4.0</td>\n",
       "      <td>145</td>\n",
       "    </tr>\n",
       "    <tr>\n",
       "      <th>4</th>\n",
       "      <td>BUILDING</td>\n",
       "      <td>5.0</td>\n",
       "      <td>8</td>\n",
       "    </tr>\n",
       "    <tr>\n",
       "      <th>5</th>\n",
       "      <td>BUILDING</td>\n",
       "      <td>6.0</td>\n",
       "      <td>13</td>\n",
       "    </tr>\n",
       "    <tr>\n",
       "      <th>6</th>\n",
       "      <td>BUILDING</td>\n",
       "      <td>7.0</td>\n",
       "      <td>4</td>\n",
       "    </tr>\n",
       "    <tr>\n",
       "      <th>7</th>\n",
       "      <td>BUILDING</td>\n",
       "      <td>8.0</td>\n",
       "      <td>10</td>\n",
       "    </tr>\n",
       "    <tr>\n",
       "      <th>8</th>\n",
       "      <td>BUILDING</td>\n",
       "      <td>9.0</td>\n",
       "      <td>24</td>\n",
       "    </tr>\n",
       "    <tr>\n",
       "      <th>9</th>\n",
       "      <td>BUILDING</td>\n",
       "      <td>10.0</td>\n",
       "      <td>1</td>\n",
       "    </tr>\n",
       "    <tr>\n",
       "      <th>10</th>\n",
       "      <td>BUILDING</td>\n",
       "      <td>11.0</td>\n",
       "      <td>16</td>\n",
       "    </tr>\n",
       "    <tr>\n",
       "      <th>11</th>\n",
       "      <td>BUILDING</td>\n",
       "      <td>12.0</td>\n",
       "      <td>80</td>\n",
       "    </tr>\n",
       "    <tr>\n",
       "      <th>12</th>\n",
       "      <td>DEMOLITION</td>\n",
       "      <td>1.0</td>\n",
       "      <td>121</td>\n",
       "    </tr>\n",
       "    <tr>\n",
       "      <th>13</th>\n",
       "      <td>DEMOLITION</td>\n",
       "      <td>2.0</td>\n",
       "      <td>121</td>\n",
       "    </tr>\n",
       "    <tr>\n",
       "      <th>14</th>\n",
       "      <td>DEMOLITION</td>\n",
       "      <td>3.0</td>\n",
       "      <td>160</td>\n",
       "    </tr>\n",
       "    <tr>\n",
       "      <th>15</th>\n",
       "      <td>DEMOLITION</td>\n",
       "      <td>4.0</td>\n",
       "      <td>129</td>\n",
       "    </tr>\n",
       "    <tr>\n",
       "      <th>16</th>\n",
       "      <td>DEMOLITION</td>\n",
       "      <td>5.0</td>\n",
       "      <td>101</td>\n",
       "    </tr>\n",
       "    <tr>\n",
       "      <th>17</th>\n",
       "      <td>DEMOLITION</td>\n",
       "      <td>6.0</td>\n",
       "      <td>120</td>\n",
       "    </tr>\n",
       "    <tr>\n",
       "      <th>18</th>\n",
       "      <td>DEMOLITION</td>\n",
       "      <td>7.0</td>\n",
       "      <td>151</td>\n",
       "    </tr>\n",
       "    <tr>\n",
       "      <th>19</th>\n",
       "      <td>DEMOLITION</td>\n",
       "      <td>8.0</td>\n",
       "      <td>154</td>\n",
       "    </tr>\n",
       "    <tr>\n",
       "      <th>20</th>\n",
       "      <td>DEMOLITION</td>\n",
       "      <td>9.0</td>\n",
       "      <td>162</td>\n",
       "    </tr>\n",
       "    <tr>\n",
       "      <th>21</th>\n",
       "      <td>DEMOLITION</td>\n",
       "      <td>10.0</td>\n",
       "      <td>140</td>\n",
       "    </tr>\n",
       "    <tr>\n",
       "      <th>22</th>\n",
       "      <td>DEMOLITION</td>\n",
       "      <td>11.0</td>\n",
       "      <td>126</td>\n",
       "    </tr>\n",
       "    <tr>\n",
       "      <th>23</th>\n",
       "      <td>DEMOLITION</td>\n",
       "      <td>12.0</td>\n",
       "      <td>111</td>\n",
       "    </tr>\n",
       "    <tr>\n",
       "      <th>24</th>\n",
       "      <td>ELECTRICAL</td>\n",
       "      <td>7.0</td>\n",
       "      <td>1</td>\n",
       "    </tr>\n",
       "    <tr>\n",
       "      <th>25</th>\n",
       "      <td>ELECTRICAL</td>\n",
       "      <td>9.0</td>\n",
       "      <td>1</td>\n",
       "    </tr>\n",
       "  </tbody>\n",
       "</table>\n",
       "</div>"
      ],
      "text/plain": [
       "   permittypemapped  issuedMonth  tally\n",
       "0          BUILDING          1.0    105\n",
       "1          BUILDING          2.0    121\n",
       "2          BUILDING          3.0    120\n",
       "3          BUILDING          4.0    145\n",
       "4          BUILDING          5.0      8\n",
       "5          BUILDING          6.0     13\n",
       "6          BUILDING          7.0      4\n",
       "7          BUILDING          8.0     10\n",
       "8          BUILDING          9.0     24\n",
       "9          BUILDING         10.0      1\n",
       "10         BUILDING         11.0     16\n",
       "11         BUILDING         12.0     80\n",
       "12       DEMOLITION          1.0    121\n",
       "13       DEMOLITION          2.0    121\n",
       "14       DEMOLITION          3.0    160\n",
       "15       DEMOLITION          4.0    129\n",
       "16       DEMOLITION          5.0    101\n",
       "17       DEMOLITION          6.0    120\n",
       "18       DEMOLITION          7.0    151\n",
       "19       DEMOLITION          8.0    154\n",
       "20       DEMOLITION          9.0    162\n",
       "21       DEMOLITION         10.0    140\n",
       "22       DEMOLITION         11.0    126\n",
       "23       DEMOLITION         12.0    111\n",
       "24       ELECTRICAL          7.0      1\n",
       "25       ELECTRICAL          9.0      1"
      ]
     },
     "execution_count": 9,
     "metadata": {},
     "output_type": "execute_result"
    }
   ],
   "source": [
    "chatt_plot"
   ]
  },
  {
   "cell_type": "code",
   "execution_count": 128,
   "metadata": {
    "collapsed": true
   },
   "outputs": [],
   "source": [
    "#df is the permittype specific df\n",
    "def make_tally_list(df,permittype,permit_col, month_col):\n",
    "    tallies = [0]*12\n",
    "    tallies.insert(0,permittype)\n",
    "    df_by_permittype= df[df[permit_col]==permittype]\n",
    "    for m in range(1,13):\n",
    "        if m in set(df_by_permittype['issuedMonth'].values):\n",
    "            tallies[m] = int(df_by_permittype[df_by_permittype['issuedMonth'] == m].tally)\n",
    "    return tallies"
   ]
  },
  {
   "cell_type": "code",
   "execution_count": 176,
   "metadata": {
    "collapsed": true
   },
   "outputs": [],
   "source": [
    "colors = ['rgba(255,99,132,1)',\n",
    "         'rgba(54, 162, 235, 1)',\n",
    "         'rgba(255, 206, 86, 1)',\n",
    "         'rgba(75, 192, 192, 1)',\n",
    "         'rgba(153, 102, 255, 1)',\n",
    "         'rgba(255, 159, 64, 1)',\n",
    "         'rgba(255, 51, 153, 1)',\n",
    "         'rgba(0, 204, 204, 1)',\n",
    "         'rgba(0, 0, 153, 1)']\n",
    "\n",
    "def tallies_by_permit(df,permit_col, month_col, colors):\n",
    "    tally_permit_list = []\n",
    "    for i, p_type in enumerate(set(df[permit_col].values)):\n",
    "        print(p_type)\n",
    "        pt_list = make_tally_list(df, p_type, permit_col,month_col)+[colors[i]]\n",
    "        tally_permit_list.append(pt_list)\n",
    "    return tally_permit_list"
   ]
  },
  {
   "cell_type": "code",
   "execution_count": 10,
   "metadata": {},
   "outputs": [
    {
     "name": "stdout",
     "output_type": "stream",
     "text": [
      "BUILDING\n",
      "ELECTRICAL\n",
      "DEMOLITION\n"
     ]
    }
   ],
   "source": [
    "chatt_tallies = tallies_by_permit(chatt_plot,'permittypemapped','issuedMonth',colors)"
   ]
  },
  {
   "cell_type": "code",
   "execution_count": 11,
   "metadata": {},
   "outputs": [
    {
     "data": {
      "text/plain": [
       "[['BUILDING',\n",
       "  105,\n",
       "  121,\n",
       "  120,\n",
       "  145,\n",
       "  8,\n",
       "  13,\n",
       "  4,\n",
       "  10,\n",
       "  24,\n",
       "  1,\n",
       "  16,\n",
       "  80,\n",
       "  'rgba(255,99,132,1)'],\n",
       " ['ELECTRICAL', 0, 0, 0, 0, 0, 0, 1, 0, 1, 0, 0, 0, 'rgba(54, 162, 235, 1)'],\n",
       " ['DEMOLITION',\n",
       "  121,\n",
       "  121,\n",
       "  160,\n",
       "  129,\n",
       "  101,\n",
       "  120,\n",
       "  151,\n",
       "  154,\n",
       "  162,\n",
       "  140,\n",
       "  126,\n",
       "  111,\n",
       "  'rgba(255, 206, 86, 1)']]"
      ]
     },
     "execution_count": 11,
     "metadata": {},
     "output_type": "execute_result"
    }
   ],
   "source": [
    "chatt_tallies"
   ]
  },
  {
   "cell_type": "code",
   "execution_count": 12,
   "metadata": {
    "collapsed": true
   },
   "outputs": [],
   "source": [
    "pd.DataFrame(chatt_tallies).to_csv('_data/chatt_tallies.csv')"
   ]
  },
  {
   "cell_type": "code",
   "execution_count": 6,
   "metadata": {
    "collapsed": true
   },
   "outputs": [],
   "source": [
    "chatt_year = chatt_data.groupby(['permittypemapped','issuedYear']).size().to_frame().reset_index().rename(columns={0:'tally'})"
   ]
  },
  {
   "cell_type": "code",
   "execution_count": 37,
   "metadata": {},
   "outputs": [
    {
     "name": "stdout",
     "output_type": "stream",
     "text": [
      "9\n",
      "8\n",
      "9\n",
      "10\n"
     ]
    },
    {
     "ename": "IndexError",
     "evalue": "list assignment index out of range",
     "output_type": "error",
     "traceback": [
      "\u001b[0;31m---------------------------------------------------------------------------\u001b[0m",
      "\u001b[0;31mIndexError\u001b[0m                                Traceback (most recent call last)",
      "\u001b[0;32m<ipython-input-37-cfbccdbc0dfe>\u001b[0m in \u001b[0;36m<module>\u001b[0;34m()\u001b[0m\n\u001b[0;32m----> 1\u001b[0;31m \u001b[0mchatt_year_tallies\u001b[0m \u001b[0;34m=\u001b[0m \u001b[0mtallies_by_permit\u001b[0m\u001b[0;34m(\u001b[0m\u001b[0mchatt_year\u001b[0m\u001b[0;34m,\u001b[0m\u001b[0;34m'permittypemapped'\u001b[0m\u001b[0;34m,\u001b[0m\u001b[0;34m'issuedYear'\u001b[0m\u001b[0;34m,\u001b[0m\u001b[0mcolors\u001b[0m\u001b[0;34m,\u001b[0m\u001b[0;34m'year'\u001b[0m\u001b[0;34m)\u001b[0m\u001b[0;34m\u001b[0m\u001b[0m\n\u001b[0m",
      "\u001b[0;32m/Users/summerfellow/Documents/open_data_standards_project/scripts/python/standardize.py\u001b[0m in \u001b[0;36mtallies_by_permit\u001b[0;34m(df, permit_col, date_col, colors, date_kind)\u001b[0m\n\u001b[1;32m    388\u001b[0m \u001b[0;34m\u001b[0m\u001b[0m\n\u001b[1;32m    389\u001b[0m         \u001b[0;32mif\u001b[0m \u001b[0mdate_kind\u001b[0m \u001b[0;34m==\u001b[0m \u001b[0;34m'year'\u001b[0m\u001b[0;34m:\u001b[0m\u001b[0;34m\u001b[0m\u001b[0m\n\u001b[0;32m--> 390\u001b[0;31m             \u001b[0mpt_list\u001b[0m\u001b[0;34m,\u001b[0m \u001b[0ms_range_min\u001b[0m\u001b[0;34m,\u001b[0m \u001b[0ms_range_max\u001b[0m \u001b[0;34m=\u001b[0m \u001b[0mmake_tally_list\u001b[0m\u001b[0;34m(\u001b[0m\u001b[0mdf\u001b[0m\u001b[0;34m,\u001b[0m \u001b[0mp_type\u001b[0m\u001b[0;34m,\u001b[0m \u001b[0mpermit_col\u001b[0m\u001b[0;34m,\u001b[0m\u001b[0mdate_col\u001b[0m\u001b[0;34m,\u001b[0m \u001b[0mdate_kind\u001b[0m\u001b[0;34m)\u001b[0m\u001b[0;34m\u001b[0m\u001b[0m\n\u001b[0m\u001b[1;32m    391\u001b[0m             \u001b[0mpt_list\u001b[0m \u001b[0;34m+=\u001b[0m \u001b[0;34m[\u001b[0m\u001b[0mcolors\u001b[0m\u001b[0;34m[\u001b[0m\u001b[0mi\u001b[0m\u001b[0;34m]\u001b[0m\u001b[0;34m]\u001b[0m\u001b[0;34m\u001b[0m\u001b[0m\n\u001b[1;32m    392\u001b[0m             \u001b[0mpt_list\u001b[0m\u001b[0;34m.\u001b[0m\u001b[0mappend\u001b[0m\u001b[0;34m(\u001b[0m\u001b[0;34m[\u001b[0m\u001b[0mlist\u001b[0m\u001b[0;34m(\u001b[0m\u001b[0mrange\u001b[0m\u001b[0;34m(\u001b[0m\u001b[0ms_range_min\u001b[0m\u001b[0;34m,\u001b[0m \u001b[0ms_range_max\u001b[0m\u001b[0;34m)\u001b[0m\u001b[0;34m)\u001b[0m\u001b[0;34m,\u001b[0m\u001b[0;34m'year'\u001b[0m\u001b[0;34m]\u001b[0m\u001b[0;34m)\u001b[0m\u001b[0;34m\u001b[0m\u001b[0m\n",
      "\u001b[0;32m/Users/summerfellow/Documents/open_data_standards_project/scripts/python/standardize.py\u001b[0m in \u001b[0;36mmake_tally_list\u001b[0;34m(df, permittype, permit_col, date_col, date_kind)\u001b[0m\n\u001b[1;32m    366\u001b[0m         \u001b[0;32mif\u001b[0m \u001b[0mreal_date\u001b[0m \u001b[0;32min\u001b[0m \u001b[0mset\u001b[0m\u001b[0;34m(\u001b[0m\u001b[0mdf_by_permittype\u001b[0m\u001b[0;34m[\u001b[0m\u001b[0mdate_col\u001b[0m\u001b[0;34m]\u001b[0m\u001b[0;34m.\u001b[0m\u001b[0mvalues\u001b[0m\u001b[0;34m)\u001b[0m\u001b[0;34m:\u001b[0m\u001b[0;34m\u001b[0m\u001b[0m\n\u001b[1;32m    367\u001b[0m             \u001b[0mprint\u001b[0m\u001b[0;34m(\u001b[0m\u001b[0mm\u001b[0m\u001b[0;34m)\u001b[0m\u001b[0;34m\u001b[0m\u001b[0m\n\u001b[0;32m--> 368\u001b[0;31m             \u001b[0mtallies\u001b[0m\u001b[0;34m[\u001b[0m\u001b[0mm\u001b[0m\u001b[0;34m+\u001b[0m\u001b[0;36m1\u001b[0m\u001b[0;34m]\u001b[0m \u001b[0;34m=\u001b[0m \u001b[0mint\u001b[0m\u001b[0;34m(\u001b[0m\u001b[0mdf_by_permittype\u001b[0m\u001b[0;34m[\u001b[0m\u001b[0mdf_by_permittype\u001b[0m\u001b[0;34m[\u001b[0m\u001b[0mdate_col\u001b[0m\u001b[0;34m]\u001b[0m \u001b[0;34m==\u001b[0m \u001b[0mreal_date\u001b[0m\u001b[0;34m]\u001b[0m\u001b[0;34m.\u001b[0m\u001b[0mtally\u001b[0m\u001b[0;34m)\u001b[0m\u001b[0;34m\u001b[0m\u001b[0m\n\u001b[0m\u001b[1;32m    369\u001b[0m \u001b[0;34m\u001b[0m\u001b[0m\n\u001b[1;32m    370\u001b[0m     \u001b[0;32mif\u001b[0m \u001b[0mdate_kind\u001b[0m \u001b[0;34m==\u001b[0m \u001b[0;34m'year'\u001b[0m\u001b[0;34m:\u001b[0m\u001b[0;34m\u001b[0m\u001b[0m\n",
      "\u001b[0;31mIndexError\u001b[0m: list assignment index out of range"
     ]
    }
   ],
   "source": [
    "chatt_year_tallies = tallies_by_permit(chatt_year,'permittypemapped','issuedYear',colors,'year')"
   ]
  },
  {
   "cell_type": "code",
   "execution_count": 8,
   "metadata": {},
   "outputs": [
    {
     "data": {
      "text/html": [
       "<div>\n",
       "<style>\n",
       "    .dataframe thead tr:only-child th {\n",
       "        text-align: right;\n",
       "    }\n",
       "\n",
       "    .dataframe thead th {\n",
       "        text-align: left;\n",
       "    }\n",
       "\n",
       "    .dataframe tbody tr th {\n",
       "        vertical-align: top;\n",
       "    }\n",
       "</style>\n",
       "<table border=\"1\" class=\"dataframe\">\n",
       "  <thead>\n",
       "    <tr style=\"text-align: right;\">\n",
       "      <th></th>\n",
       "      <th>permittypemapped</th>\n",
       "      <th>issuedYear</th>\n",
       "      <th>tally</th>\n",
       "    </tr>\n",
       "  </thead>\n",
       "  <tbody>\n",
       "    <tr>\n",
       "      <th>0</th>\n",
       "      <td>BUILDING</td>\n",
       "      <td>2008.0</td>\n",
       "      <td>89</td>\n",
       "    </tr>\n",
       "    <tr>\n",
       "      <th>1</th>\n",
       "      <td>BUILDING</td>\n",
       "      <td>2009.0</td>\n",
       "      <td>555</td>\n",
       "    </tr>\n",
       "    <tr>\n",
       "      <th>2</th>\n",
       "      <td>BUILDING</td>\n",
       "      <td>2010.0</td>\n",
       "      <td>3</td>\n",
       "    </tr>\n",
       "    <tr>\n",
       "      <th>3</th>\n",
       "      <td>DEMOLITION</td>\n",
       "      <td>2009.0</td>\n",
       "      <td>95</td>\n",
       "    </tr>\n",
       "    <tr>\n",
       "      <th>4</th>\n",
       "      <td>DEMOLITION</td>\n",
       "      <td>2010.0</td>\n",
       "      <td>166</td>\n",
       "    </tr>\n",
       "    <tr>\n",
       "      <th>5</th>\n",
       "      <td>DEMOLITION</td>\n",
       "      <td>2011.0</td>\n",
       "      <td>208</td>\n",
       "    </tr>\n",
       "    <tr>\n",
       "      <th>6</th>\n",
       "      <td>DEMOLITION</td>\n",
       "      <td>2012.0</td>\n",
       "      <td>170</td>\n",
       "    </tr>\n",
       "    <tr>\n",
       "      <th>7</th>\n",
       "      <td>DEMOLITION</td>\n",
       "      <td>2013.0</td>\n",
       "      <td>200</td>\n",
       "    </tr>\n",
       "    <tr>\n",
       "      <th>8</th>\n",
       "      <td>DEMOLITION</td>\n",
       "      <td>2014.0</td>\n",
       "      <td>223</td>\n",
       "    </tr>\n",
       "    <tr>\n",
       "      <th>9</th>\n",
       "      <td>DEMOLITION</td>\n",
       "      <td>2015.0</td>\n",
       "      <td>231</td>\n",
       "    </tr>\n",
       "    <tr>\n",
       "      <th>10</th>\n",
       "      <td>DEMOLITION</td>\n",
       "      <td>2016.0</td>\n",
       "      <td>231</td>\n",
       "    </tr>\n",
       "    <tr>\n",
       "      <th>11</th>\n",
       "      <td>DEMOLITION</td>\n",
       "      <td>2017.0</td>\n",
       "      <td>72</td>\n",
       "    </tr>\n",
       "    <tr>\n",
       "      <th>12</th>\n",
       "      <td>ELECTRICAL</td>\n",
       "      <td>2009.0</td>\n",
       "      <td>2</td>\n",
       "    </tr>\n",
       "  </tbody>\n",
       "</table>\n",
       "</div>"
      ],
      "text/plain": [
       "   permittypemapped  issuedYear  tally\n",
       "0          BUILDING      2008.0     89\n",
       "1          BUILDING      2009.0    555\n",
       "2          BUILDING      2010.0      3\n",
       "3        DEMOLITION      2009.0     95\n",
       "4        DEMOLITION      2010.0    166\n",
       "5        DEMOLITION      2011.0    208\n",
       "6        DEMOLITION      2012.0    170\n",
       "7        DEMOLITION      2013.0    200\n",
       "8        DEMOLITION      2014.0    223\n",
       "9        DEMOLITION      2015.0    231\n",
       "10       DEMOLITION      2016.0    231\n",
       "11       DEMOLITION      2017.0     72\n",
       "12       ELECTRICAL      2009.0      2"
      ]
     },
     "execution_count": 8,
     "metadata": {},
     "output_type": "execute_result"
    }
   ],
   "source": [
    "chatt_year"
   ]
  },
  {
   "cell_type": "code",
   "execution_count": 27,
   "metadata": {},
   "outputs": [],
   "source": [
    "for i in range(9,9):\n",
    "    print(i)"
   ]
  },
  {
   "cell_type": "code",
   "execution_count": null,
   "metadata": {
    "collapsed": true
   },
   "outputs": [],
   "source": []
  }
 ],
 "metadata": {
  "kernelspec": {
   "display_name": "Python 3",
   "language": "python",
   "name": "python3"
  },
  "language_info": {
   "codemirror_mode": {
    "name": "ipython",
    "version": 3
   },
   "file_extension": ".py",
   "mimetype": "text/x-python",
   "name": "python",
   "nbconvert_exporter": "python",
   "pygments_lexer": "ipython3",
   "version": "3.6.1"
  }
 },
 "nbformat": 4,
 "nbformat_minor": 2
}
