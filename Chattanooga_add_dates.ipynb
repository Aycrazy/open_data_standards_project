{
 "cells": [
  {
   "cell_type": "code",
   "execution_count": 75,
   "metadata": {},
   "outputs": [],
   "source": [
    "%run scripts/python/standardize.py\n",
    "%matplotlib inline\n",
    "pd.set_option('max_columns',50)"
   ]
  },
  {
   "cell_type": "code",
   "execution_count": 11,
   "metadata": {
    "collapsed": true
   },
   "outputs": [],
   "source": [
    "chatt_data = pd.read_csv('_data/blds_csvs/cities/Chattanooga.csv')"
   ]
  },
  {
   "cell_type": "code",
   "execution_count": 12,
   "metadata": {
    "collapsed": true
   },
   "outputs": [],
   "source": [
    "add_year_month_day_df(chatt_data,'issueddate','issued')"
   ]
  },
  {
   "cell_type": "code",
   "execution_count": 13,
   "metadata": {},
   "outputs": [
    {
     "data": {
      "text/html": [
       "<div>\n",
       "<style>\n",
       "    .dataframe thead tr:only-child th {\n",
       "        text-align: right;\n",
       "    }\n",
       "\n",
       "    .dataframe thead th {\n",
       "        text-align: left;\n",
       "    }\n",
       "\n",
       "    .dataframe tbody tr th {\n",
       "        vertical-align: top;\n",
       "    }\n",
       "</style>\n",
       "<table border=\"1\" class=\"dataframe\">\n",
       "  <thead>\n",
       "    <tr style=\"text-align: right;\">\n",
       "      <th></th>\n",
       "      <th>Unnamed: 0</th>\n",
       "      <th>Unnamed: 0.1</th>\n",
       "      <th>applieddate</th>\n",
       "      <th>contractorcompanyname</th>\n",
       "      <th>contractorlicnum</th>\n",
       "      <th>contractorphone</th>\n",
       "      <th>description</th>\n",
       "      <th>estprojectcost</th>\n",
       "      <th>fee</th>\n",
       "      <th>issueddate</th>\n",
       "      <th>lastupdated</th>\n",
       "      <th>originaladdress1</th>\n",
       "      <th>originaladdresslocation</th>\n",
       "      <th>city</th>\n",
       "      <th>state</th>\n",
       "      <th>originalzip</th>\n",
       "      <th>permitclass</th>\n",
       "      <th>permitnum</th>\n",
       "      <th>permittype</th>\n",
       "      <th>pin</th>\n",
       "      <th>status</th>\n",
       "      <th>statusdate</th>\n",
       "      <th>units</th>\n",
       "      <th>latitude</th>\n",
       "      <th>longitude</th>\n",
       "      <th>permittypemapped</th>\n",
       "      <th>issuedYear</th>\n",
       "      <th>issuedMonth</th>\n",
       "      <th>issuedDay</th>\n",
       "    </tr>\n",
       "  </thead>\n",
       "  <tbody>\n",
       "    <tr>\n",
       "      <th>0</th>\n",
       "      <td>0</td>\n",
       "      <td>0</td>\n",
       "      <td>2009-02-10T00:00:00</td>\n",
       "      <td>OWNER</td>\n",
       "      <td>0000000</td>\n",
       "      <td>NaN</td>\n",
       "      <td>MAJOR REPAIRS TO EXISTING SINGLE FAMILY RESIDENCE</td>\n",
       "      <td>22500.0</td>\n",
       "      <td>150.0</td>\n",
       "      <td>2009-02-10T00:00:00</td>\n",
       "      <td>20090826.0</td>\n",
       "      <td>3501 04TH AVE</td>\n",
       "      <td>NaN</td>\n",
       "      <td>CHATTANOOGA</td>\n",
       "      <td>TN</td>\n",
       "      <td>37407.0</td>\n",
       "      <td>Building Permit</td>\n",
       "      <td>09-10159</td>\n",
       "      <td>Building/Building Permit/Residential (1-2 Unit...</td>\n",
       "      <td>033168A H 00200</td>\n",
       "      <td>Closed</td>\n",
       "      <td>2009-08-26T00:00:00</td>\n",
       "      <td>1.0</td>\n",
       "      <td>NaN</td>\n",
       "      <td>NaN</td>\n",
       "      <td>BUILDING</td>\n",
       "      <td>2009.0</td>\n",
       "      <td>2.0</td>\n",
       "      <td>1.0</td>\n",
       "    </tr>\n",
       "  </tbody>\n",
       "</table>\n",
       "</div>"
      ],
      "text/plain": [
       "   Unnamed: 0  Unnamed: 0.1          applieddate contractorcompanyname  \\\n",
       "0           0             0  2009-02-10T00:00:00                 OWNER   \n",
       "\n",
       "  contractorlicnum contractorphone  \\\n",
       "0          0000000             NaN   \n",
       "\n",
       "                                         description  estprojectcost    fee  \\\n",
       "0  MAJOR REPAIRS TO EXISTING SINGLE FAMILY RESIDENCE         22500.0  150.0   \n",
       "\n",
       "            issueddate  lastupdated originaladdress1 originaladdresslocation  \\\n",
       "0  2009-02-10T00:00:00   20090826.0    3501 04TH AVE                     NaN   \n",
       "\n",
       "          city state  originalzip      permitclass permitnum  \\\n",
       "0  CHATTANOOGA    TN      37407.0  Building Permit  09-10159   \n",
       "\n",
       "                                          permittype              pin  status  \\\n",
       "0  Building/Building Permit/Residential (1-2 Unit...  033168A H 00200  Closed   \n",
       "\n",
       "            statusdate  units  latitude  longitude permittypemapped  \\\n",
       "0  2009-08-26T00:00:00    1.0       NaN        NaN         BUILDING   \n",
       "\n",
       "   issuedYear  issuedMonth  issuedDay  \n",
       "0      2009.0          2.0        1.0  "
      ]
     },
     "execution_count": 13,
     "metadata": {},
     "output_type": "execute_result"
    }
   ],
   "source": [
    "chatt_data.head(1)"
   ]
  },
  {
   "cell_type": "code",
   "execution_count": 7,
   "metadata": {
    "collapsed": true
   },
   "outputs": [],
   "source": [
    "chatt_data.to_csv('_data/Chattanooga.csv')"
   ]
  },
  {
   "cell_type": "code",
   "execution_count": 8,
   "metadata": {
    "collapsed": true
   },
   "outputs": [],
   "source": [
    "chatt_plot = chatt_data.groupby(['permittypemapped','issuedMonth']).size().to_frame().reset_index().rename(columns={0:'tally'})"
   ]
  },
  {
   "cell_type": "markdown",
   "metadata": {},
   "source": [
    "This is clearly not a comprehensive dataset. I wonder why San Diego is only able to provide data for 3 years (2010,15, and 17) after 2010."
   ]
  },
  {
   "cell_type": "code",
   "execution_count": 9,
   "metadata": {},
   "outputs": [
    {
     "data": {
      "text/html": [
       "<div>\n",
       "<style>\n",
       "    .dataframe thead tr:only-child th {\n",
       "        text-align: right;\n",
       "    }\n",
       "\n",
       "    .dataframe thead th {\n",
       "        text-align: left;\n",
       "    }\n",
       "\n",
       "    .dataframe tbody tr th {\n",
       "        vertical-align: top;\n",
       "    }\n",
       "</style>\n",
       "<table border=\"1\" class=\"dataframe\">\n",
       "  <thead>\n",
       "    <tr style=\"text-align: right;\">\n",
       "      <th></th>\n",
       "      <th>permittypemapped</th>\n",
       "      <th>issuedMonth</th>\n",
       "      <th>tally</th>\n",
       "    </tr>\n",
       "  </thead>\n",
       "  <tbody>\n",
       "    <tr>\n",
       "      <th>0</th>\n",
       "      <td>BUILDING</td>\n",
       "      <td>1.0</td>\n",
       "      <td>105</td>\n",
       "    </tr>\n",
       "    <tr>\n",
       "      <th>1</th>\n",
       "      <td>BUILDING</td>\n",
       "      <td>2.0</td>\n",
       "      <td>121</td>\n",
       "    </tr>\n",
       "    <tr>\n",
       "      <th>2</th>\n",
       "      <td>BUILDING</td>\n",
       "      <td>3.0</td>\n",
       "      <td>120</td>\n",
       "    </tr>\n",
       "    <tr>\n",
       "      <th>3</th>\n",
       "      <td>BUILDING</td>\n",
       "      <td>4.0</td>\n",
       "      <td>145</td>\n",
       "    </tr>\n",
       "    <tr>\n",
       "      <th>4</th>\n",
       "      <td>BUILDING</td>\n",
       "      <td>5.0</td>\n",
       "      <td>8</td>\n",
       "    </tr>\n",
       "    <tr>\n",
       "      <th>5</th>\n",
       "      <td>BUILDING</td>\n",
       "      <td>6.0</td>\n",
       "      <td>13</td>\n",
       "    </tr>\n",
       "    <tr>\n",
       "      <th>6</th>\n",
       "      <td>BUILDING</td>\n",
       "      <td>7.0</td>\n",
       "      <td>4</td>\n",
       "    </tr>\n",
       "    <tr>\n",
       "      <th>7</th>\n",
       "      <td>BUILDING</td>\n",
       "      <td>8.0</td>\n",
       "      <td>10</td>\n",
       "    </tr>\n",
       "    <tr>\n",
       "      <th>8</th>\n",
       "      <td>BUILDING</td>\n",
       "      <td>9.0</td>\n",
       "      <td>24</td>\n",
       "    </tr>\n",
       "    <tr>\n",
       "      <th>9</th>\n",
       "      <td>BUILDING</td>\n",
       "      <td>10.0</td>\n",
       "      <td>1</td>\n",
       "    </tr>\n",
       "    <tr>\n",
       "      <th>10</th>\n",
       "      <td>BUILDING</td>\n",
       "      <td>11.0</td>\n",
       "      <td>16</td>\n",
       "    </tr>\n",
       "    <tr>\n",
       "      <th>11</th>\n",
       "      <td>BUILDING</td>\n",
       "      <td>12.0</td>\n",
       "      <td>80</td>\n",
       "    </tr>\n",
       "    <tr>\n",
       "      <th>12</th>\n",
       "      <td>DEMOLITION</td>\n",
       "      <td>1.0</td>\n",
       "      <td>121</td>\n",
       "    </tr>\n",
       "    <tr>\n",
       "      <th>13</th>\n",
       "      <td>DEMOLITION</td>\n",
       "      <td>2.0</td>\n",
       "      <td>121</td>\n",
       "    </tr>\n",
       "    <tr>\n",
       "      <th>14</th>\n",
       "      <td>DEMOLITION</td>\n",
       "      <td>3.0</td>\n",
       "      <td>160</td>\n",
       "    </tr>\n",
       "    <tr>\n",
       "      <th>15</th>\n",
       "      <td>DEMOLITION</td>\n",
       "      <td>4.0</td>\n",
       "      <td>129</td>\n",
       "    </tr>\n",
       "    <tr>\n",
       "      <th>16</th>\n",
       "      <td>DEMOLITION</td>\n",
       "      <td>5.0</td>\n",
       "      <td>101</td>\n",
       "    </tr>\n",
       "    <tr>\n",
       "      <th>17</th>\n",
       "      <td>DEMOLITION</td>\n",
       "      <td>6.0</td>\n",
       "      <td>120</td>\n",
       "    </tr>\n",
       "    <tr>\n",
       "      <th>18</th>\n",
       "      <td>DEMOLITION</td>\n",
       "      <td>7.0</td>\n",
       "      <td>151</td>\n",
       "    </tr>\n",
       "    <tr>\n",
       "      <th>19</th>\n",
       "      <td>DEMOLITION</td>\n",
       "      <td>8.0</td>\n",
       "      <td>154</td>\n",
       "    </tr>\n",
       "    <tr>\n",
       "      <th>20</th>\n",
       "      <td>DEMOLITION</td>\n",
       "      <td>9.0</td>\n",
       "      <td>162</td>\n",
       "    </tr>\n",
       "    <tr>\n",
       "      <th>21</th>\n",
       "      <td>DEMOLITION</td>\n",
       "      <td>10.0</td>\n",
       "      <td>140</td>\n",
       "    </tr>\n",
       "    <tr>\n",
       "      <th>22</th>\n",
       "      <td>DEMOLITION</td>\n",
       "      <td>11.0</td>\n",
       "      <td>126</td>\n",
       "    </tr>\n",
       "    <tr>\n",
       "      <th>23</th>\n",
       "      <td>DEMOLITION</td>\n",
       "      <td>12.0</td>\n",
       "      <td>111</td>\n",
       "    </tr>\n",
       "    <tr>\n",
       "      <th>24</th>\n",
       "      <td>ELECTRICAL</td>\n",
       "      <td>7.0</td>\n",
       "      <td>1</td>\n",
       "    </tr>\n",
       "    <tr>\n",
       "      <th>25</th>\n",
       "      <td>ELECTRICAL</td>\n",
       "      <td>9.0</td>\n",
       "      <td>1</td>\n",
       "    </tr>\n",
       "  </tbody>\n",
       "</table>\n",
       "</div>"
      ],
      "text/plain": [
       "   permittypemapped  issuedMonth  tally\n",
       "0          BUILDING          1.0    105\n",
       "1          BUILDING          2.0    121\n",
       "2          BUILDING          3.0    120\n",
       "3          BUILDING          4.0    145\n",
       "4          BUILDING          5.0      8\n",
       "5          BUILDING          6.0     13\n",
       "6          BUILDING          7.0      4\n",
       "7          BUILDING          8.0     10\n",
       "8          BUILDING          9.0     24\n",
       "9          BUILDING         10.0      1\n",
       "10         BUILDING         11.0     16\n",
       "11         BUILDING         12.0     80\n",
       "12       DEMOLITION          1.0    121\n",
       "13       DEMOLITION          2.0    121\n",
       "14       DEMOLITION          3.0    160\n",
       "15       DEMOLITION          4.0    129\n",
       "16       DEMOLITION          5.0    101\n",
       "17       DEMOLITION          6.0    120\n",
       "18       DEMOLITION          7.0    151\n",
       "19       DEMOLITION          8.0    154\n",
       "20       DEMOLITION          9.0    162\n",
       "21       DEMOLITION         10.0    140\n",
       "22       DEMOLITION         11.0    126\n",
       "23       DEMOLITION         12.0    111\n",
       "24       ELECTRICAL          7.0      1\n",
       "25       ELECTRICAL          9.0      1"
      ]
     },
     "execution_count": 9,
     "metadata": {},
     "output_type": "execute_result"
    }
   ],
   "source": [
    "chatt_plot"
   ]
  },
  {
   "cell_type": "code",
   "execution_count": 11,
   "metadata": {},
   "outputs": [
    {
     "data": {
      "text/plain": [
       "[['BUILDING',\n",
       "  105,\n",
       "  121,\n",
       "  120,\n",
       "  145,\n",
       "  8,\n",
       "  13,\n",
       "  4,\n",
       "  10,\n",
       "  24,\n",
       "  1,\n",
       "  16,\n",
       "  80,\n",
       "  'rgba(255,99,132,1)'],\n",
       " ['ELECTRICAL', 0, 0, 0, 0, 0, 0, 1, 0, 1, 0, 0, 0, 'rgba(54, 162, 235, 1)'],\n",
       " ['DEMOLITION',\n",
       "  121,\n",
       "  121,\n",
       "  160,\n",
       "  129,\n",
       "  101,\n",
       "  120,\n",
       "  151,\n",
       "  154,\n",
       "  162,\n",
       "  140,\n",
       "  126,\n",
       "  111,\n",
       "  'rgba(255, 206, 86, 1)']]"
      ]
     },
     "execution_count": 11,
     "metadata": {},
     "output_type": "execute_result"
    }
   ],
   "source": [
    "chatt_tallies"
   ]
  },
  {
   "cell_type": "code",
   "execution_count": 12,
   "metadata": {
    "collapsed": true
   },
   "outputs": [],
   "source": [
    "pd.DataFrame(chatt_tallies).to_csv('_data/chatt_tallies.csv')"
   ]
  },
  {
   "cell_type": "code",
   "execution_count": 65,
   "metadata": {},
   "outputs": [],
   "source": [
    "chatt_year = chatt_data.groupby(['permittypemapped','issuedYear']).size().to_frame().reset_index().rename(columns={0:'tally'})"
   ]
  },
  {
   "cell_type": "code",
   "execution_count": 77,
   "metadata": {
    "collapsed": true
   },
   "outputs": [],
   "source": [
    "chatt_year_tallies = tallies_by_permit(chatt_year,'permittypemapped','issuedYear',colors,'year')"
   ]
  },
  {
   "cell_type": "code",
   "execution_count": 78,
   "metadata": {},
   "outputs": [],
   "source": [
    "cy_tallies = get_years(chatt_year_tallies)"
   ]
  },
  {
   "cell_type": "code",
   "execution_count": 79,
   "metadata": {},
   "outputs": [
    {
     "data": {
      "text/plain": [
       "[['DEMOLITION',\n",
       "  95,\n",
       "  166,\n",
       "  208,\n",
       "  170,\n",
       "  200,\n",
       "  223,\n",
       "  231,\n",
       "  231,\n",
       "  121,\n",
       "  0,\n",
       "  'rgba(255,99,132,1)',\n",
       "  [8, 9, 10, 11, 12, 13, 14, 15, 16, 17]],\n",
       " ['ELECTRICAL',\n",
       "  2,\n",
       "  0,\n",
       "  0,\n",
       "  0,\n",
       "  0,\n",
       "  0,\n",
       "  0,\n",
       "  0,\n",
       "  0,\n",
       "  0,\n",
       "  'rgba(54, 162, 235, 1)',\n",
       "  [8, 9, 10, 11, 12, 13, 14, 15, 16, 17]],\n",
       " ['BUILDING',\n",
       "  89,\n",
       "  555,\n",
       "  3,\n",
       "  0,\n",
       "  0,\n",
       "  0,\n",
       "  0,\n",
       "  0,\n",
       "  0,\n",
       "  0,\n",
       "  'rgba(255, 206, 86, 1)',\n",
       "  [8, 9, 10, 11, 12, 13, 14, 15, 16, 17]],\n",
       " ['POOL',\n",
       "  11,\n",
       "  11,\n",
       "  22,\n",
       "  28,\n",
       "  26,\n",
       "  24,\n",
       "  35,\n",
       "  25,\n",
       "  15,\n",
       "  0,\n",
       "  'rgba(75, 192, 192, 1)',\n",
       "  [8, 9, 10, 11, 12, 13, 14, 15, 16, 17]]]"
      ]
     },
     "execution_count": 79,
     "metadata": {},
     "output_type": "execute_result"
    }
   ],
   "source": [
    "cy_tallies"
   ]
  },
  {
   "cell_type": "code",
   "execution_count": 80,
   "metadata": {
    "collapsed": true
   },
   "outputs": [],
   "source": [
    "pd.DataFrame(chatt_year_tallies).to_csv('_data/tallies_chatt_year.csv')"
   ]
  },
  {
   "cell_type": "code",
   "execution_count": null,
   "metadata": {
    "collapsed": true
   },
   "outputs": [],
   "source": []
  }
 ],
 "metadata": {
  "kernelspec": {
   "display_name": "Python 3",
   "language": "python",
   "name": "python3"
  },
  "language_info": {
   "codemirror_mode": {
    "name": "ipython",
    "version": 3
   },
   "file_extension": ".py",
   "mimetype": "text/x-python",
   "name": "python",
   "nbconvert_exporter": "python",
   "pygments_lexer": "ipython3",
   "version": "3.6.1"
  }
 },
 "nbformat": 4,
 "nbformat_minor": 2
}
